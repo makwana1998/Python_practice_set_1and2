{
 "cells": [
  {
   "cell_type": "markdown",
   "id": "8e5549b9",
   "metadata": {},
   "source": [
    "(1) Given two lists of numbers, concatenate them into a single list"
   ]
  },
  {
   "cell_type": "code",
   "execution_count": 1,
   "id": "474330b6",
   "metadata": {},
   "outputs": [
    {
     "name": "stdout",
     "output_type": "stream",
     "text": [
      "[1, 2, 3, 4, 5, 6]\n"
     ]
    }
   ],
   "source": [
    "l1 = [1,2,3]\n",
    "l2 = [4,5,6]\n",
    "print(l1 + l2)"
   ]
  },
  {
   "cell_type": "markdown",
   "id": "e6260d65",
   "metadata": {},
   "source": [
    "(2) Write a program that finds the largest and smallest elements in a list"
   ]
  },
  {
   "cell_type": "code",
   "execution_count": 91,
   "id": "c5a8cdd0",
   "metadata": {},
   "outputs": [
    {
     "name": "stdout",
     "output_type": "stream",
     "text": [
      "Enter values : 400 0 50 1 500\n",
      "the largest elements is : 500\n",
      "the smallest emements is : 0\n"
     ]
    }
   ],
   "source": [
    "# list1 = [10,8,2,1,9]\n",
    "# list1=input(list)\n",
    "user_input = input(\"Enter values : \")\n",
    "list1 = user_input.split()\n",
    "list1 = [int(x) for x in list1]\n",
    "\n",
    "largest =list1[0]\n",
    "smallest =list1[0]\n",
    "\n",
    "for item in list1:\n",
    "    if item > largest:\n",
    "        largest = item\n",
    "    if item < smallest:\n",
    "        smallest = item\n",
    "print('the largest elements is :',largest)\n",
    "print('the smallest emements is :',smallest)"
   ]
  },
  {
   "cell_type": "markdown",
   "id": "aca7cf45",
   "metadata": {},
   "source": [
    "(3) Implement a function that takes a list of numbers and returns a new list with the squared values"
   ]
  },
  {
   "cell_type": "code",
   "execution_count": 166,
   "id": "78f5ed10",
   "metadata": {},
   "outputs": [
    {
     "name": "stdout",
     "output_type": "stream",
     "text": [
      "Enter values : 1 2 3\n",
      "[1, 4, 9]\n"
     ]
    }
   ],
   "source": [
    "# list1=[1,2,3]\n",
    "\n",
    "# new_list=[]\n",
    "\n",
    "# for i in list1:\n",
    "#     new_list.append(i**2)\n",
    "# print(new_list)\n",
    "\n",
    "    \n",
    "    \n",
    "user_input = input(\"Enter values : \")\n",
    "\n",
    "x_list = user_input.split()\n",
    "x_list = [int(item) for item in x_list]\n",
    "# print(x_list)\n",
    "new_list = []\n",
    "for item in x_list:\n",
    "    new_list.append(item**2)\n",
    "print(new_list)"
   ]
  },
  {
   "cell_type": "markdown",
   "id": "28a9a663",
   "metadata": {},
   "source": [
    "(4) Create a program that finds the common elements between two lists and stores them in a new list"
   ]
  },
  {
   "cell_type": "code",
   "execution_count": 16,
   "id": "7d9918b7",
   "metadata": {},
   "outputs": [
    {
     "name": "stdout",
     "output_type": "stream",
     "text": [
      "[1, 2]\n"
     ]
    }
   ],
   "source": [
    "l1 = [1,2,3,4]\n",
    "l2 = [1,2,5,6]\n",
    "\n",
    "new_list=list(set(l1).intersection(set(l2)))\n",
    "print(new_list)\n"
   ]
  },
  {
   "cell_type": "markdown",
   "id": "9861c183",
   "metadata": {},
   "source": [
    "(5) Given a list of words, find the word with the maximum length and its length"
   ]
  },
  {
   "cell_type": "code",
   "execution_count": 92,
   "id": "90dd843b",
   "metadata": {},
   "outputs": [
    {
     "name": "stdout",
     "output_type": "stream",
     "text": [
      "opqrstuvwxyz\n"
     ]
    }
   ],
   "source": [
    "l=['h','ij','klmn','opqrstuvwxyz']\n",
    "length = len(l)\n",
    "index =0 \n",
    "for item in range(length):\n",
    "    if len(l[item]) > len(l[index]):\n",
    "        index = item\n",
    "print(l[index])"
   ]
  },
  {
   "cell_type": "markdown",
   "id": "0b4b34ca",
   "metadata": {},
   "source": [
    "(6) Write a Python program to count the occurrences of each element in a given list"
   ]
  },
  {
   "cell_type": "code",
   "execution_count": 96,
   "id": "c33f48b1",
   "metadata": {
    "scrolled": true
   },
   "outputs": [
    {
     "name": "stdout",
     "output_type": "stream",
     "text": [
      "6\n"
     ]
    }
   ],
   "source": [
    "is_list = [1, 3, 2, 6, 3, 2, 8, 2, 9, 2, 7, 3,5,5,5,5,5,5]\n",
    "\n",
    "count = 0\n",
    "for value in is_list:       \n",
    "    if value == 5:\n",
    "        count += 1\n",
    "\n",
    "print(count)\n",
    "                    "
   ]
  },
  {
   "cell_type": "markdown",
   "id": "44fe238d",
   "metadata": {},
   "source": [
    "(7) Given a list of names, remove all duplicate names and print the unique names"
   ]
  },
  {
   "cell_type": "code",
   "execution_count": 97,
   "id": "ed618f8d",
   "metadata": {},
   "outputs": [
    {
     "name": "stdout",
     "output_type": "stream",
     "text": [
      "enter the elements: apple banana banana apple watermelon\n",
      "['apple', 'banana', 'watermelon']\n"
     ]
    }
   ],
   "source": [
    "# l = ['apple','banana','apple','watermelon','banana']\n",
    "\n",
    "user_input = input('enter the elements: ')\n",
    "list1=user_input.split()\n",
    "\n",
    "dup_list = list()\n",
    "\n",
    "for item in list1:\n",
    "    if item not in dup_list:\n",
    "        dup_list.append(item)\n",
    "        \n",
    "print(dup_list)\n"
   ]
  },
  {
   "cell_type": "code",
   "execution_count": 45,
   "id": "9fbfc539",
   "metadata": {},
   "outputs": [],
   "source": []
  },
  {
   "cell_type": "markdown",
   "id": "534d4f4c",
   "metadata": {},
   "source": [
    "(8) Create a function that takes a list of strings and returns the list sorted by the length of the strings"
   ]
  },
  {
   "cell_type": "code",
   "execution_count": 2,
   "id": "a0627115",
   "metadata": {},
   "outputs": [
    {
     "name": "stdout",
     "output_type": "stream",
     "text": [
      "['C', 'Go', 'Java', 'Python', 'JavaScript']\n"
     ]
    }
   ],
   "source": [
    "list_string= [\"Python\", \"C\", \"Java\", \"JavaScript\", \"Go\"]\n",
    "\n",
    "\n",
    "result = sorted(list_string, key=len)\n",
    "\n",
    "print(result)\n"
   ]
  },
  {
   "cell_type": "markdown",
   "id": "04ee2aa7",
   "metadata": {},
   "source": [
    "(9) Write a program that checks if a given list is sorted in ascending order"
   ]
  },
  {
   "cell_type": "code",
   "execution_count": 100,
   "id": "8ca971f4",
   "metadata": {},
   "outputs": [
    {
     "name": "stdout",
     "output_type": "stream",
     "text": [
      "enter the value :1 2 3 4\n",
      "This list is ascending order.\n"
     ]
    }
   ],
   "source": [
    "user_list=input('enter the value :')\n",
    "list1=user_list.split()\n",
    "list1=[int(item) for item in list1]\n",
    "if list1 == sorted(list1):\n",
    "    print('This list is ascending order.')\n",
    "else:\n",
    "    print('This list is decending order.')"
   ]
  },
  {
   "cell_type": "markdown",
   "id": "a5d3e07f",
   "metadata": {},
   "source": [
    "(10) Implement a function that takes two lists and returns their union (all unique elements from both lists)."
   ]
  },
  {
   "cell_type": "code",
   "execution_count": 93,
   "id": "fdb0a6ad",
   "metadata": {
    "scrolled": true
   },
   "outputs": [
    {
     "name": "stdout",
     "output_type": "stream",
     "text": [
      "[1, 2, 3, 4, 5, 6, 7, 8]\n"
     ]
    }
   ],
   "source": [
    "l1 = [1,2,3,2,4,5]\n",
    "l2 = [1,3,5,6,7,8]\n",
    "\n",
    "res = list(set(l1).union(l2))\n",
    "print(res)"
   ]
  },
  {
   "cell_type": "markdown",
   "id": "d314c2af",
   "metadata": {},
   "source": [
    "(11) Given two dictionaries, merge them into a single dictionary"
   ]
  },
  {
   "cell_type": "code",
   "execution_count": 20,
   "id": "c1dc9a8a",
   "metadata": {},
   "outputs": [
    {
     "name": "stdout",
     "output_type": "stream",
     "text": [
      "{'x': 1, 'y': 3, 'z': 4}\n",
      "{'x': 1, 'y': 2}\n",
      "{'y': 3, 'z': 4}\n"
     ]
    }
   ],
   "source": [
    "d1 = {'x': 1, 'y': 2}\n",
    "d2 = {'y': 3, 'z': 4}\n",
    "\n",
    "d3 = d1.copy()\n",
    "for key, value in d2.items():\n",
    "    d3[key] = value\n",
    "\n",
    "print(d3)\n",
    "print(d1)\n",
    "print(d2)"
   ]
  },
  {
   "cell_type": "markdown",
   "id": "12e3a257",
   "metadata": {},
   "source": [
    "(12) Write a program that finds the most frequent element in a list"
   ]
  },
  {
   "cell_type": "code",
   "execution_count": 133,
   "id": "24165557",
   "metadata": {},
   "outputs": [
    {
     "name": "stdout",
     "output_type": "stream",
     "text": [
      "enter the value1,1,2,3,4,4,4,4\n",
      "4\n"
     ]
    }
   ],
   "source": [
    "# list1 = [1, 2, 2, 3,3,3,3,3,3,4, 4, 4, 4]\n",
    "\n",
    "user_input=input('enter the value')\n",
    "list1=user_input.split(',')\n",
    "list1=[int(item) for item in list1]\n",
    "\n",
    "frequent_elements= {}\n",
    "\n",
    "for number in list1:\n",
    "    frequent_elements[number] = frequent_elements.get(number, 0) + 1\n",
    "\n",
    "most_frequent_elements = max(frequent_elements, key=frequent_elements.get) \n",
    "\n",
    "print(most_frequent_elements)  \n",
    "# print(list1)"
   ]
  },
  {
   "cell_type": "markdown",
   "id": "95cbfab4",
   "metadata": {},
   "source": [
    "(13) Implement a function that removes a key-value pair from a dictionary"
   ]
  },
  {
   "cell_type": "code",
   "execution_count": 125,
   "id": "3995cf44",
   "metadata": {},
   "outputs": [
    {
     "name": "stdout",
     "output_type": "stream",
     "text": [
      "Enter the number of entries: 3\n",
      "Enter key: name\n",
      "Enter value: nikki\n",
      "Enter key: age\n",
      "Enter value: 25\n",
      "Enter key: city\n",
      "Enter value: new york\n",
      "{'age': '25', 'city': 'new york'}\n"
     ]
    }
   ],
   "source": [
    "# dictionary = {\"name\": \"Nikki\", \"age\": 25, \"city\": \"New York\"}\n",
    "\n",
    "user_input = int(input(\"Enter the number of entries: \"))\n",
    "dictionary = {input(\"Enter key: \"): input(\"Enter value: \") for item in range(user_input)}\n",
    "\n",
    "result = {k: v for k, v in dictionary.items() if k != \"name\"}\n",
    "\n",
    "print(result)  \n",
    "\n"
   ]
  },
  {
   "cell_type": "markdown",
   "id": "6190584a",
   "metadata": {},
   "source": [
    "(14) Create a program that checks if two sets have any elements in common"
   ]
  },
  {
   "cell_type": "code",
   "execution_count": 112,
   "id": "6c7ce250",
   "metadata": {},
   "outputs": [
    {
     "name": "stdout",
     "output_type": "stream",
     "text": [
      "Common\n",
      "{4}\n"
     ]
    }
   ],
   "source": [
    "s1 = {1, 2, 3, 4, 5}\n",
    "# s2 = {5, 3, 7, 8, 9}\n",
    "s2={6,7,8,9,4}\n",
    " \n",
    "if s1.isdisjoint(s2):\n",
    "      print(\"not Common\")\n",
    "else:\n",
    "    print(\"Common\")\n",
    "    print(s1.intersection(s2))"
   ]
  },
  {
   "cell_type": "markdown",
   "id": "1bf05312",
   "metadata": {},
   "source": [
    "(15) Given a list of dictionaries, find the dictionary with the highest value for a specific key"
   ]
  },
  {
   "cell_type": "code",
   "execution_count": 4,
   "id": "19a843c4",
   "metadata": {},
   "outputs": [
    {
     "name": "stdout",
     "output_type": "stream",
     "text": [
      "{'Course': 'Python', 'Author': 'Mark'}\n"
     ]
    }
   ],
   "source": [
    "my_list_dict = [\n",
    "    {'Course': \"C++\", 'Author': \"Jerry\"},\n",
    "    {'Course': \"Python\", 'Author': \"Mark\"},\n",
    "    {'Course': \"Java\", 'Author': \"Paul\"}]\n",
    " \n",
    "\n",
    "result= None\n",
    "for sub in my_list_dict:\n",
    "    if sub['Author'] == \"Mark\":\n",
    "        result = sub\n",
    "        break\n",
    "\n",
    "print(str(result))\n",
    "    \n",
    "\n"
   ]
  },
  {
   "cell_type": "markdown",
   "id": "437a7f40",
   "metadata": {},
   "source": []
  },
  {
   "cell_type": "markdown",
   "id": "b4237181",
   "metadata": {},
   "source": [
    "(16) Write a Python program that counts the number of occurrences of each character in a given string using a dictionary"
   ]
  },
  {
   "cell_type": "code",
   "execution_count": 120,
   "id": "7c1b9d61",
   "metadata": {},
   "outputs": [
    {
     "name": "stdout",
     "output_type": "stream",
     "text": [
      "enter the character word: hello\n",
      "{'o': 1, 'h': 1, 'l': 2, 'e': 1}\n"
     ]
    }
   ],
   "source": [
    "input_string = input('enter the character word: ')\n",
    "\n",
    "result = {character : input_string.count(character) for character in set(input_string )} \n",
    " \n",
    "\n",
    "print (str(result)) "
   ]
  },
  {
   "cell_type": "markdown",
   "id": "2dfd1a31",
   "metadata": {},
   "source": [
    "(17) Given two sets, find the union, intersection, and difference between them"
   ]
  },
  {
   "cell_type": "code",
   "execution_count": 42,
   "id": "e95728a0",
   "metadata": {},
   "outputs": [
    {
     "name": "stdout",
     "output_type": "stream",
     "text": [
      "using '|': {1, 2, 3, 4, 5, 6}\n",
      "using union(): {1, 2, 3, 4, 5, 6}\n",
      "using '&': {3, 4}\n",
      "using '-': {3, 4}\n",
      "using difference(): {1, 2}\n"
     ]
    }
   ],
   "source": [
    "# union\n",
    "A = {1, 2, 3, 4}\n",
    "B = {3, 4, 5, 6}\n",
    "\n",
    "result1 = A | B\n",
    "print(\"using '|':\", result1)\n",
    "result2 = A.union(B)\n",
    "print(\"using union():\",result2)\n",
    "\n",
    "# intersection\n",
    "A = {1, 2, 3, 4}\n",
    "B = {3, 4, 5, 6}\n",
    "result = A & B\n",
    "print(\"using '&':\",result)\n",
    "\n",
    "\n",
    "# diffrence\n",
    "\n",
    "A = {1, 2, 3, 4}\n",
    "B = {3, 4, 5, 6}\n",
    "\n",
    "result1 = A - B\n",
    "print(\"using '-':\", result)\n",
    "\n",
    "# Using difference() method\n",
    "result2 = A.difference(B)\n",
    "print(\"using difference():\", result2)\n",
    "\n"
   ]
  },
  {
   "cell_type": "markdown",
   "id": "8eda0eff",
   "metadata": {},
   "source": [
    "(18) Create a function that takes a list of dictionaries and sorts them based on a specified key"
   ]
  },
  {
   "cell_type": "code",
   "execution_count": 124,
   "id": "c5832148",
   "metadata": {},
   "outputs": [
    {
     "name": "stdout",
     "output_type": "stream",
     "text": [
      "Enter the number of entries: 2\n",
      "Enter key: 1\n",
      "Enter value: one\n",
      "Enter key: 2\n",
      "Enter value: two\n",
      "{'1': 'one', '2': 'two'}\n",
      "{'1': 'one', '2': 'two'}\n"
     ]
    }
   ],
   "source": [
    "number_of_dict = int(input(\"Enter the number of entries: \"))\n",
    "dictionary= {input(\"Enter key: \"): input(\"Enter value: \") for item in range(number_of_dict)}\n",
    "print(dictionary)\n",
    "\n"
   ]
  },
  {
   "cell_type": "markdown",
   "id": "4618869c",
   "metadata": {},
   "source": [
    "(19) Write a program that finds the average value of all the elements in a list of dictionaries"
   ]
  },
  {
   "cell_type": "code",
   "execution_count": 126,
   "id": "1e13dd1b",
   "metadata": {},
   "outputs": [
    {
     "name": "stdout",
     "output_type": "stream",
     "text": [
      "enter the value :1,2,3,4,5\n",
      "3.0\n"
     ]
    }
   ],
   "source": [
    "user_input=input('enter the value :')\n",
    "list1=user_input.split(',')\n",
    "list1 = [int(item) for item in list1]\n",
    "total_sum = 0\n",
    "\n",
    "for value in list1:\n",
    "    total_sum += value\n",
    "average = total_sum / len(list1)\n",
    "\n",
    "print(average)"
   ]
  },
  {
   "cell_type": "markdown",
   "id": "be627efe",
   "metadata": {},
   "source": [
    "(20) .Implement a function that takes a list of strings and returns a set of unique characters in all strings."
   ]
  },
  {
   "cell_type": "code",
   "execution_count": 7,
   "id": "b038b18d",
   "metadata": {},
   "outputs": [],
   "source": [
    "def unique_characters(strings):\n",
    "    unique_chars = set()\n",
    "    for character in strings:\n",
    "        unique_chars.update(character)\n",
    "    return unique_chars\n",
    "\n",
    "\n"
   ]
  },
  {
   "cell_type": "code",
   "execution_count": 8,
   "id": "94d07241",
   "metadata": {},
   "outputs": [
    {
     "name": "stdout",
     "output_type": "stream",
     "text": [
      "{'y', 'p', 't', 'd', 'e', 'l', 'r', 'w', 'h', 'o', 'n'}\n"
     ]
    }
   ],
   "source": [
    "words = [\"hello\", \"world\", \"python\"]\n",
    "result = unique_characters(words)\n",
    "print(result)\n"
   ]
  },
  {
   "cell_type": "code",
   "execution_count": null,
   "id": "3bc3d5e2",
   "metadata": {},
   "outputs": [],
   "source": []
  }
 ],
 "metadata": {
  "kernelspec": {
   "display_name": "Python 3 (ipykernel)",
   "language": "python",
   "name": "python3"
  },
  "language_info": {
   "codemirror_mode": {
    "name": "ipython",
    "version": 3
   },
   "file_extension": ".py",
   "mimetype": "text/x-python",
   "name": "python",
   "nbconvert_exporter": "python",
   "pygments_lexer": "ipython3",
   "version": "3.10.9"
  }
 },
 "nbformat": 4,
 "nbformat_minor": 5
}
