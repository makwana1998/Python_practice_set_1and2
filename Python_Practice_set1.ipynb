{
 "cells": [
  {
   "cell_type": "markdown",
   "id": "aea8e665",
   "metadata": {},
   "source": [
    " (1) Write a Python program to calculate the area of a rectangle given its length and width"
   ]
  },
  {
   "cell_type": "code",
   "execution_count": 1,
   "id": "788be466",
   "metadata": {},
   "outputs": [
    {
     "name": "stdout",
     "output_type": "stream",
     "text": [
      "Enter the length: 10\n",
      "Enter the width :20\n",
      "The area of rectangle of  200\n"
     ]
    }
   ],
   "source": [
    "length = int(input(\"Enter the length: \"))\n",
    "width = int(input(\"Enter the width :\"))\n",
    "\n",
    "print('The area of rectangle of ',length*width)"
   ]
  },
  {
   "cell_type": "markdown",
   "id": "2eecec35",
   "metadata": {},
   "source": [
    " (2) Create a program that takes a user's name and age as input and prints a greeting message"
   ]
  },
  {
   "cell_type": "code",
   "execution_count": 2,
   "id": "eae7a3ac",
   "metadata": {},
   "outputs": [
    {
     "name": "stdout",
     "output_type": "stream",
     "text": [
      "Enter the Name: python\n",
      "Enter the age: 20\n",
      "hello my name is python , my  age is 20\n"
     ]
    }
   ],
   "source": [
    "user_name = input(\"Enter the Name: \")\n",
    "age = int(input(\"Enter the age: \"))\n",
    "\n",
    "print(f'hello my name is {user_name} , my  age is {age}')"
   ]
  },
  {
   "cell_type": "markdown",
   "id": "27919f7a",
   "metadata": {},
   "source": [
    "(3) Write a program to check if a number is even or odd"
   ]
  },
  {
   "cell_type": "code",
   "execution_count": 3,
   "id": "daaa9857",
   "metadata": {},
   "outputs": [
    {
     "name": "stdout",
     "output_type": "stream",
     "text": [
      "Enter the number : 15\n",
      "This number is Odd\n"
     ]
    }
   ],
   "source": [
    "number = int(input(\"Enter the number : \"))\n",
    "\n",
    "if number %2 ==0:\n",
    "    print(\"This number is Even.\")\n",
    "else:\n",
    "    print(\"This number is Odd\")"
   ]
  },
  {
   "cell_type": "markdown",
   "id": "a9a6ecf8",
   "metadata": {},
   "source": [
    "(4) Given a list of numbers, find the maximum and minimum values."
   ]
  },
  {
   "cell_type": "code",
   "execution_count": 12,
   "id": "a4638a9f",
   "metadata": {},
   "outputs": [
    {
     "name": "stdout",
     "output_type": "stream",
     "text": [
      "enter the value1,2,3,4\n",
      "the minimun number is  1\n",
      "the max values is  4\n"
     ]
    }
   ],
   "source": [
    "# l1 = [-8,2,0,4,-5]\n",
    "user_list = input('enter the value')\n",
    "list1=user_list.split(',')\n",
    "list1=[int(item) for item in list1]\n",
    "\n",
    "# minimum_value = user_list[0]\n",
    "# maximum_value = user_list[0]\n",
    "\n",
    "# for item in user_list:\n",
    "#     if item > maximum_value:\n",
    "#         maximum_value = item\n",
    "#     if item < minimum_value:\n",
    "#         minimum_value = item\n",
    "# print('the minimun number is ',minimum_value)\n",
    "# print('the max values is ', maximum_value)\n",
    "\n",
    "minimum_value = list1[0]\n",
    "maximum_value = list1[0]\n",
    "\n",
    "for item in list1:\n",
    "    if item > maximum_value:\n",
    "        maximum_value = item\n",
    "    if item < minimum_value:\n",
    "        minimum_value = item\n",
    "print('the minimun number is ',minimum_value)\n",
    "print('the max values is ', maximum_value)\n",
    "\n",
    "\n"
   ]
  },
  {
   "cell_type": "markdown",
   "id": "c80757d4",
   "metadata": {},
   "source": [
    "(5) Create a Python function to check if a given string is a palindrome"
   ]
  },
  {
   "cell_type": "code",
   "execution_count": 14,
   "id": "0595510e",
   "metadata": {},
   "outputs": [
    {
     "name": "stdout",
     "output_type": "stream",
     "text": [
      "python\n",
      "No\n"
     ]
    }
   ],
   "source": [
    "# aba\n",
    "\n",
    "# s = input('enter the string: ')\n",
    "# if s[::-1] ==s:\n",
    "#     print('This is palindrome')\n",
    "# else:\n",
    "#     print('this is not palindrome')\n",
    "\n",
    "string = input()\n",
    "rev = \"\"  \n",
    "\n",
    "for char in string:\n",
    "    rev = char + rev\n",
    "\n",
    "if string == rev:\n",
    "    print(\"Yes\")\n",
    "else:\n",
    "    print(\"No\")\n",
    "\n"
   ]
  },
  {
   "cell_type": "markdown",
   "id": "359038ed",
   "metadata": {},
   "source": [
    "(6) Calculate the compound interest for a given principal amount, interest rate, and time period"
   ]
  },
  {
   "cell_type": "code",
   "execution_count": 4,
   "id": "8168dbe2",
   "metadata": {},
   "outputs": [
    {
     "name": "stdout",
     "output_type": "stream",
     "text": [
      "Compound interest is 6288.946267774416\n"
     ]
    }
   ],
   "source": [
    "\n",
    "def compound_interest(principal, rate, time):\n",
    " \n",
    "    \n",
    "    Amount = principal * (pow((1 + rate / 100), time))\n",
    "    CI = Amount - principal\n",
    "    print(\"Compound interest is\", CI)\n",
    " \n",
    " \n",
    "\n",
    "compound_interest(10000, 10.25, 5)"
   ]
  },
  {
   "cell_type": "markdown",
   "id": "6feea6f8",
   "metadata": {},
   "source": [
    "(7) Write a program that converts a given number of days into years, weeks, and days"
   ]
  },
  {
   "cell_type": "code",
   "execution_count": 6,
   "id": "b6218dd7",
   "metadata": {},
   "outputs": [
    {
     "name": "stdout",
     "output_type": "stream",
     "text": [
      "enter number :5\n",
      "5\n",
      "0\n",
      "0\n"
     ]
    }
   ],
   "source": [
    "number = int(input('enter number :'))\n",
    "\n",
    "day=int((number%365))%7\n",
    "week=int((number%365)/7)\n",
    "year=int(number/365)\n",
    "\n",
    "print(day)\n",
    "print(week)\n",
    "print(year)"
   ]
  },
  {
   "cell_type": "markdown",
   "id": "ff11f55b",
   "metadata": {},
   "source": [
    "(8) Given a list of integers, find the sum of all positive numbers"
   ]
  },
  {
   "cell_type": "code",
   "execution_count": 11,
   "id": "529ecac5",
   "metadata": {},
   "outputs": [
    {
     "name": "stdout",
     "output_type": "stream",
     "text": [
      "64\n"
     ]
    }
   ],
   "source": [
    "list_intergers = [1,3,10,20,30]\n",
    "\n",
    "sum=0\n",
    "for i in list_intergers:\n",
    "    if i > 0:\n",
    "        sum += i \n",
    "    else:\n",
    "        continue\n",
    "        \n",
    "print(sum)\n",
    "  \n",
    "    "
   ]
  },
  {
   "cell_type": "code",
   "execution_count": null,
   "id": "3381fc5e",
   "metadata": {},
   "outputs": [],
   "source": []
  },
  {
   "cell_type": "markdown",
   "id": "91b494b5",
   "metadata": {},
   "source": [
    "(9) Create a program that takes a sentence as input and counts the number of words in it"
   ]
  },
  {
   "cell_type": "code",
   "execution_count": 17,
   "id": "362aef0a",
   "metadata": {},
   "outputs": [
    {
     "name": "stdout",
     "output_type": "stream",
     "text": [
      "Enter the sentence : hello python language welcome\n",
      "4\n"
     ]
    }
   ],
   "source": [
    "word = input(\"Enter the sentence : \")\n",
    "word=word.split()\n",
    "\n",
    "count = 0\n",
    "for i in word:\n",
    "    count += 1\n",
    "print(count)"
   ]
  },
  {
   "cell_type": "markdown",
   "id": "607c3ec6",
   "metadata": {},
   "source": [
    "(10) Implement a program that swaps the values of two variables."
   ]
  },
  {
   "cell_type": "code",
   "execution_count": 18,
   "id": "034c60e1",
   "metadata": {},
   "outputs": [
    {
     "name": "stdout",
     "output_type": "stream",
     "text": [
      "10\n",
      "5\n"
     ]
    }
   ],
   "source": [
    "\n",
    "# swaps the values like a=20, b=10\n",
    "\n",
    "# a,b = 10,20\n",
    "# # print(a)\n",
    "# # print(b) \n",
    "\n",
    "# a,b = b,a\n",
    "\n",
    "\n",
    "# print(a)\n",
    "# print(b)\n",
    "\n",
    "x = 5\n",
    "y = 10\n",
    "\n",
    "temp_variable = x\n",
    "x = y\n",
    "y = temp_variable\n",
    "\n",
    "\n",
    "print(x)\n",
    "print(y)\n",
    "      "
   ]
  },
  {
   "cell_type": "markdown",
   "id": "cf0d832d",
   "metadata": {},
   "source": [
    "(11) Given a list of numbers, create a function to find the sum of all positive numbers."
   ]
  },
  {
   "cell_type": "code",
   "execution_count": 30,
   "id": "5f6b9576",
   "metadata": {},
   "outputs": [
    {
     "name": "stdout",
     "output_type": "stream",
     "text": [
      "enter the value: 10,20,30,40\n",
      "100\n"
     ]
    }
   ],
   "source": [
    "# list1 = [10, 20, 30, 40]\n",
    "list1=input('enter the value: ')\n",
    "my_list=list1.split(',')\n",
    "my_list=[int(item)for item in my_list]\n",
    "\n",
    "result = 0\n",
    "for value in my_list:\n",
    "    result += value\n",
    "print(result)\n",
    "\n",
    "# list1=input('enter the value: ')\n",
    "#     my_list=list1.split(',')\n",
    "#     my_list=[int(item)for item in my_list]\n",
    "\n",
    "\n",
    "# def sum_positive_number():\n",
    "#     result= 0\n",
    "#     for value in list:\n",
    "#         result += value\n",
    "#         print(result)\n",
    "    \n",
    "# sum_positive_number([1,2,3])"
   ]
  },
  {
   "cell_type": "code",
   "execution_count": null,
   "id": "9cbc8608",
   "metadata": {},
   "outputs": [],
   "source": []
  },
  {
   "cell_type": "markdown",
   "id": "c6e2eb7b",
   "metadata": {},
   "source": [
    "(12) Create a program that takes a temperature in Celsius and converts it to Kelvin."
   ]
  },
  {
   "cell_type": "code",
   "execution_count": 14,
   "id": "309b4cc7",
   "metadata": {},
   "outputs": [
    {
     "name": "stdout",
     "output_type": "stream",
     "text": [
      "Enter the celsius : 37\n",
      "310.15\n"
     ]
    }
   ],
   "source": [
    "# K = C + 273.15  c-k\n",
    "temp = int(input('Enter the celsius : '))\n",
    "\n",
    "print(temp + 273.15)\n"
   ]
  },
  {
   "cell_type": "markdown",
   "id": "1bcaf3c5",
   "metadata": {},
   "source": [
    "(13) Implement a program that checks if a given string is a palindrome"
   ]
  },
  {
   "cell_type": "code",
   "execution_count": 15,
   "id": "c9c446a4",
   "metadata": {},
   "outputs": [
    {
     "name": "stdout",
     "output_type": "stream",
     "text": [
      "enter the string: hello\n",
      "this is not palindrome\n"
     ]
    }
   ],
   "source": [
    "string = input('enter the string: ')\n",
    "if string[::-1] ==s:\n",
    "    print('This is palindrome')\n",
    "else:\n",
    "    print('this is not palindrome')"
   ]
  },
  {
   "cell_type": "markdown",
   "id": "909bb69c",
   "metadata": {},
   "source": [
    "(14) Create a function to reverse a given string"
   ]
  },
  {
   "cell_type": "code",
   "execution_count": 16,
   "id": "022627a5",
   "metadata": {},
   "outputs": [
    {
     "name": "stdout",
     "output_type": "stream",
     "text": [
      "elppA\n"
     ]
    }
   ],
   "source": [
    "str1 = \"Apple\"\n",
    "\n",
    "length = len(str1)\n",
    "res = \"\"\n",
    "\n",
    "while length>0:\n",
    "    res += str1[length-1]\n",
    "    length = length-1\n",
    "print(res)"
   ]
  },
  {
   "cell_type": "code",
   "execution_count": 17,
   "id": "ad1d7994",
   "metadata": {},
   "outputs": [
    {
     "name": "stdout",
     "output_type": "stream",
     "text": [
      "olleH\n"
     ]
    }
   ],
   "source": [
    "# slicing\n",
    "str1 = \"Hello\"\n",
    "print(str1[::-1])"
   ]
  },
  {
   "cell_type": "code",
   "execution_count": 21,
   "id": "0b4ee306",
   "metadata": {},
   "outputs": [
    {
     "data": {
      "text/plain": [
       "'elppa'"
      ]
     },
     "execution_count": 21,
     "metadata": {},
     "output_type": "execute_result"
    }
   ],
   "source": [
    "def re(str):\n",
    "    return str[::-1]\n",
    "re('apple')"
   ]
  },
  {
   "cell_type": "markdown",
   "id": "d6d5d522",
   "metadata": {},
   "source": [
    "(15) Concatenate a list of names into a single string separated by spaces."
   ]
  },
  {
   "cell_type": "code",
   "execution_count": 34,
   "id": "754fc101",
   "metadata": {},
   "outputs": [
    {
     "name": "stdout",
     "output_type": "stream",
     "text": [
      "enter the value: welcome to python code\n",
      "welcome to python code\n"
     ]
    }
   ],
   "source": [
    "# list1 = ['Python','is','language']\n",
    "\n",
    "# res = ' '.join([i.strip() for i in list1])\n",
    "# print(res)\n",
    "\n",
    "user_input=input('enter the value: ')\n",
    "list1=user_input.split(',')\n",
    "\n",
    "result=\" \".join([item.strip() for item in list1])\n",
    "print(result)"
   ]
  },
  {
   "cell_type": "code",
   "execution_count": 37,
   "id": "a8b45e5b",
   "metadata": {},
   "outputs": [
    {
     "name": "stdout",
     "output_type": "stream",
     "text": [
      "enter the value: hello,welcome,to,python\n",
      "hello welcome to python\n",
      "hello\n"
     ]
    }
   ],
   "source": [
    "# using for loop\n",
    "# list2 =['hello','how','are','you']\n",
    "# my_str=''\n",
    "# for i in list2:\n",
    "#     my_str = my_str +' '+ i\n",
    "# print(my_str.strip())\n",
    "# print(\"kkkkk\")\n",
    "\n",
    "user_input=input('enter the value: ')\n",
    "list1=user_input.split(',')\n",
    "\n",
    "my_string=\"\"\n",
    "for item in list1:\n",
    "    my_string = my_string + \" \" + item\n",
    "print(my_string.strip())\n",
    "print('hello')"
   ]
  },
  {
   "cell_type": "code",
   "execution_count": null,
   "id": "cce06d7b",
   "metadata": {},
   "outputs": [],
   "source": []
  },
  {
   "cell_type": "markdown",
   "id": "fa0e9f77",
   "metadata": {},
   "source": [
    "(16) Write a Python program to check if a given string is a pangram (contains all letters of the alphabet)"
   ]
  },
  {
   "cell_type": "code",
   "execution_count": 2,
   "id": "ea12f7d6",
   "metadata": {},
   "outputs": [
    {
     "name": "stdout",
     "output_type": "stream",
     "text": [
      "asd\n",
      "it is not panagram\n"
     ]
    }
   ],
   "source": [
    "# string = \"The quick brown fox jumps over the lazy dog\"\n",
    "# The five boxing wizards jump quickly\"\n",
    "# \"When zombies arrive, quickly fax Judge Pat\"\n",
    "# \"Two driven jocks help fax my big quiz\"\n",
    "# \"Bright vixens jump; dozy fowl quack\n",
    "\n",
    "string=input()\n",
    "\n",
    "# Initialize bitmask for tracking found letters\n",
    "f = 0\n",
    "\n",
    "# Loop through each character in lowercase string\n",
    "for char in string.lower():\n",
    "    if char.isalpha():  # Check if the character is alphabetic\n",
    "        f |= 1 << (ord(char) - ord('a'))  # Set corresponding bit for letter\n",
    "    \n",
    "    if f == (1 << 26) - 1:  # All letters found\n",
    "        print('it is panagram')  \n",
    "        break\n",
    "else:\n",
    "    print('it is not panagram')  \n",
    "        \n",
    "        \n",
    "    \n",
    "  \n"
   ]
  },
  {
   "cell_type": "code",
   "execution_count": null,
   "id": "3755ed76",
   "metadata": {},
   "outputs": [],
   "source": []
  },
  {
   "cell_type": "markdown",
   "id": "98d16976",
   "metadata": {},
   "source": [
    "(17) Calculate the area and circumference of a circle, given its radius"
   ]
  },
  {
   "cell_type": "code",
   "execution_count": 93,
   "id": "f59423ec",
   "metadata": {},
   "outputs": [
    {
     "name": "stdout",
     "output_type": "stream",
     "text": [
      "Enter the circle radius: 3\n",
      "28.26\n"
     ]
    }
   ],
   "source": [
    "radius = int(input(\"Enter the circle radius: \"))\n",
    "\n",
    "# # A = 3.14r**2\n",
    "\n",
    "area = 3.14*radius**2\n",
    "print(area)\n"
   ]
  },
  {
   "cell_type": "markdown",
   "id": "dd791415",
   "metadata": {},
   "source": [
    "(18) Implement a program that converts a given number of minutes into hours and minutes"
   ]
  },
  {
   "cell_type": "code",
   "execution_count": 24,
   "id": "ea540129",
   "metadata": {},
   "outputs": [
    {
     "name": "stdout",
     "output_type": "stream",
     "text": [
      "Entered Minutes: 601\n",
      "10:1\n"
     ]
    }
   ],
   "source": [
    "Enter_the_minutes = int(input('Entered Minutes: '))\n",
    "\n",
    "hours = Enter_the_minutes // 60\n",
    "minutes = Enter_the_minutes % 60\n",
    "time = f\"{hours}:{minutes}\"\n",
    "\n",
    "print(time)"
   ]
  },
  {
   "cell_type": "markdown",
   "id": "1d3474d0",
   "metadata": {},
   "source": [
    "(19) Create a function to count the number of vowels in a given string"
   ]
  },
  {
   "cell_type": "code",
   "execution_count": 40,
   "id": "98e6ace7",
   "metadata": {},
   "outputs": [
    {
     "name": "stdout",
     "output_type": "stream",
     "text": [
      "python\n",
      "the word is python and vowels count is 1\n"
     ]
    }
   ],
   "source": [
    "string =input()\n",
    "\n",
    "wordList = string.split()\n",
    "\n",
    "vowels = ['a', 'e', 'i', 'o', 'u', 'A', 'E', 'I', 'O', 'U']\n",
    "\n",
    "for word in wordList:\n",
    "    vowelCount = 0\n",
    "    \n",
    "    for item in range(0, len(word)):\n",
    "        \n",
    "        if word[item] in vowels:\n",
    "            vowelCount += 1\n",
    "    print(f'the word is {word} and vowels count is {vowelCount}')"
   ]
  },
  {
   "cell_type": "markdown",
   "id": "db91227c",
   "metadata": {},
   "source": [
    "(20) Write a program to check if a number is prime."
   ]
  },
  {
   "cell_type": "code",
   "execution_count": 23,
   "id": "3dd9a05a",
   "metadata": {},
   "outputs": [
    {
     "name": "stdout",
     "output_type": "stream",
     "text": [
      "Enter the Number: 11\n",
      "this number is Prime \n"
     ]
    }
   ],
   "source": [
    "number = int(input('Enter the Number: '))\n",
    "\n",
    "if number%2 !=0:\n",
    "    print('this number is Prime ')\n",
    "else:\n",
    "    print('this number is Not Prime ')\n",
    "\n",
    "\n",
    "    "
   ]
  },
  {
   "cell_type": "markdown",
   "id": "0dccf511",
   "metadata": {},
   "source": [
    "(21) Create a program that takes a year as input and checks if it is a leap year or not"
   ]
  },
  {
   "cell_type": "code",
   "execution_count": 41,
   "id": "f1c8a914",
   "metadata": {},
   "outputs": [
    {
     "name": "stdout",
     "output_type": "stream",
     "text": [
      "Enter the Year: 2005\n",
      "this year is not leap year\n"
     ]
    }
   ],
   "source": [
    "year = int(input(\"Enter the Year: \"))\n",
    "\n",
    "if year%4 ==0:\n",
    "    print('this is leap year')\n",
    "else:\n",
    "    print('this year is not leap year')"
   ]
  },
  {
   "cell_type": "markdown",
   "id": "7cc0bb97",
   "metadata": {},
   "source": [
    "(22) Given a list of integers, find all the even numbers and store them in a new list)"
   ]
  },
  {
   "cell_type": "code",
   "execution_count": 45,
   "id": "62b1bdb5",
   "metadata": {},
   "outputs": [
    {
     "name": "stdout",
     "output_type": "stream",
     "text": [
      "enter the vlaue: 1,2,3,4,5\n",
      "[2, 4]\n"
     ]
    }
   ],
   "source": [
    "# list_integers = [1,2,3,4,5,6,7,8,-4,-8]\n",
    "list_integers = input('enter the vlaue: ')\n",
    "my_list=list_integers.split(',')\n",
    "my_list=[int(item) for item in my_list]\n",
    "\n",
    "new_list = list()\n",
    "\n",
    "for number in my_list:\n",
    "    if number %2 ==0:\n",
    "        new_list.append(number)\n",
    "    \n",
    "print(new_list)"
   ]
  },
  {
   "cell_type": "markdown",
   "id": "a10d5d9b",
   "metadata": {},
   "source": [
    "(23) Write a Python program to check if a given number is a prime number"
   ]
  },
  {
   "cell_type": "code",
   "execution_count": 73,
   "id": "6cff152a",
   "metadata": {},
   "outputs": [
    {
     "name": "stdout",
     "output_type": "stream",
     "text": [
      "Enter the Number: 55\n",
      "this number is Prime \n"
     ]
    }
   ],
   "source": [
    "number = int(input('Enter the Number: '))\n",
    "\n",
    "if number%2 !=0:\n",
    "    print('this number is Prime ')\n",
    "else:\n",
    "    print('this number is Not Prime ')"
   ]
  },
  {
   "cell_type": "markdown",
   "id": "a208dee5",
   "metadata": {},
   "source": [
    "(24) Create a program that generates the Fibonacci sequence up to a given number of terms)"
   ]
  },
  {
   "cell_type": "code",
   "execution_count": 46,
   "id": "8d1ea8c7",
   "metadata": {},
   "outputs": [
    {
     "name": "stdout",
     "output_type": "stream",
     "text": [
      "enter the number:10\n",
      "1 2 3 5 8 13 21 34 55 89 \n"
     ]
    }
   ],
   "source": [
    "number = int(input('enter the number:')) \n",
    "a = 0\n",
    "b = 1\n",
    "next = b  \n",
    "count = 1\n",
    "\n",
    "while count <= number:\n",
    "    print(next, end=\" \")\n",
    "    count += 1\n",
    "    a, b = b, next\n",
    "    next = a + b\n",
    "print()\n"
   ]
  },
  {
   "cell_type": "markdown",
   "id": "0a3dc2a7",
   "metadata": {},
   "source": [
    "(25) Given a list of names, print all names starting with the letter 'A'"
   ]
  },
  {
   "cell_type": "code",
   "execution_count": 47,
   "id": "15bdda0d",
   "metadata": {},
   "outputs": [
    {
     "name": "stdout",
     "output_type": "stream",
     "text": [
      "enter the value: apple,banana,Abc,python\n",
      "orignal list name: ['apple', 'banana', 'Abc', 'python']\n",
      "A with name: ['apple', 'Abc']\n"
     ]
    }
   ],
   "source": [
    "\n",
    "test_list = input('enter the value: ')\n",
    "my_list = test_list.split(',')\n",
    "\n",
    "check = 'A'\n",
    " \n",
    "print('orignal list name:',str(my_list))\n",
    "\n",
    "result = [idx for idx in my_list if idx[0].lower() == check.lower()]\n",
    " \n",
    "print('A with name:',str(result))"
   ]
  },
  {
   "cell_type": "markdown",
   "id": "518b921d",
   "metadata": {},
   "source": [
    "(26) Implement a program that prints the multiplication table of a given number"
   ]
  },
  {
   "cell_type": "code",
   "execution_count": 97,
   "id": "c2d76488",
   "metadata": {},
   "outputs": [
    {
     "name": "stdout",
     "output_type": "stream",
     "text": [
      "Enter the table Number: 15\n",
      "15 x 1 = 15\n",
      "15 x 2 = 30\n",
      "15 x 3 = 45\n",
      "15 x 4 = 60\n",
      "15 x 5 = 75\n",
      "15 x 6 = 90\n",
      "15 x 7 = 105\n",
      "15 x 8 = 120\n",
      "15 x 9 = 135\n",
      "15 x 10 = 150\n"
     ]
    }
   ],
   "source": [
    "Number = int(input(\"Enter the table Number: \"))\n",
    "\n",
    "for item in range(1,11):\n",
    "    print(Number,'x',item,'=',Number*item)"
   ]
  },
  {
   "cell_type": "markdown",
   "id": "33f45400",
   "metadata": {},
   "source": [
    "(27) Write a program that calculates the factorial of a given number"
   ]
  },
  {
   "cell_type": "code",
   "execution_count": 51,
   "id": "76a7746a",
   "metadata": {},
   "outputs": [
    {
     "name": "stdout",
     "output_type": "stream",
     "text": [
      "enter the number5\n",
      "The factorial of 5 is 120\n"
     ]
    }
   ],
   "source": [
    "number = int(input('enter the number'))\n",
    "factorial = 1\n",
    "\n",
    "\n",
    "if number < 0:\n",
    "    print(\"not allowed nagetive number\")\n",
    "elif number == 0:\n",
    "    print(\"The factorial of 0 is 1\")\n",
    "else:\n",
    "    for i in range(1,number + 1):\n",
    "        factorial = factorial*i\n",
    "    print(\"The factorial of\",number,\"is\",factorial)"
   ]
  },
  {
   "cell_type": "markdown",
   "id": "5e261dd2",
   "metadata": {},
   "source": [
    "(28) Create a loop that prints all prime numbers between 1 and 50"
   ]
  },
  {
   "cell_type": "code",
   "execution_count": 125,
   "id": "fb634f20",
   "metadata": {},
   "outputs": [
    {
     "name": "stdout",
     "output_type": "stream",
     "text": [
      "1, 3, 5, 7, 9, 11, 13, 15, 17, 19, 21, 23, 25, 27, 29, 31, 33, 35, 37, 39, 41, 43, 45, 47, 49, "
     ]
    }
   ],
   "source": [
    "for number in range(1,51):\n",
    "    if number%2 !=0:\n",
    "        print(number,end=', ')"
   ]
  },
  {
   "cell_type": "markdown",
   "id": "4c2de2f9",
   "metadata": {},
   "source": [
    "(29) Given a list of words, count the number of words with more than five characters)"
   ]
  },
  {
   "cell_type": "code",
   "execution_count": 154,
   "id": "85e62185",
   "metadata": {},
   "outputs": [
    {
     "name": "stdout",
     "output_type": "stream",
     "text": [
      "watermelon\n"
     ]
    }
   ],
   "source": [
    "list_word = ['white','black','yellow','apple','watermelon']\n",
    "new_list=[]\n",
    "for item in list_word:\n",
    "    if item > str(5):\n",
    "        new_list.append(item)\n",
    "print(item)\n",
    "\n"
   ]
  },
  {
   "cell_type": "markdown",
   "id": "b977a1f7",
   "metadata": {},
   "source": [
    "(30) Calculate the sum of digits of a given number."
   ]
  },
  {
   "cell_type": "code",
   "execution_count": 22,
   "id": "bf67d5b0",
   "metadata": {},
   "outputs": [
    {
     "name": "stdout",
     "output_type": "stream",
     "text": [
      "enter the digit: 524\n",
      "11\n"
     ]
    }
   ],
   "source": [
    "number = int((input('enter the digit: ')))\n",
    "\n",
    "# sum = 0\n",
    "\n",
    "# if number !=0:\n",
    "#     d=int(number%10)\n",
    "#     sum += d\n",
    "#     number = number /10\n",
    "# print(sum)\n",
    "\n",
    "sum = 0\n",
    "\n",
    "while number !=0:\n",
    "    \n",
    "    digit = int(number%10)\n",
    "    sum += digit\n",
    "    number = number /10\n",
    "print(sum)\n"
   ]
  },
  {
   "cell_type": "code",
   "execution_count": null,
   "id": "6a08a97d",
   "metadata": {},
   "outputs": [],
   "source": []
  },
  {
   "cell_type": "code",
   "execution_count": null,
   "id": "741f6985",
   "metadata": {},
   "outputs": [],
   "source": []
  }
 ],
 "metadata": {
  "kernelspec": {
   "display_name": "Python 3 (ipykernel)",
   "language": "python",
   "name": "python3"
  },
  "language_info": {
   "codemirror_mode": {
    "name": "ipython",
    "version": 3
   },
   "file_extension": ".py",
   "mimetype": "text/x-python",
   "name": "python",
   "nbconvert_exporter": "python",
   "pygments_lexer": "ipython3",
   "version": "3.10.9"
  }
 },
 "nbformat": 4,
 "nbformat_minor": 5
}
