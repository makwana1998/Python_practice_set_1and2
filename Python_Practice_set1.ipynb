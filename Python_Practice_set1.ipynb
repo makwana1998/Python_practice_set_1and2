{
 "cells": [
  {
   "cell_type": "markdown",
   "id": "aea8e665",
   "metadata": {},
   "source": [
    " (1) Write a Python program to calculate the area of a rectangle given its length and width"
   ]
  },
  {
   "cell_type": "code",
   "execution_count": 1,
   "id": "788be466",
   "metadata": {},
   "outputs": [
    {
     "name": "stdout",
     "output_type": "stream",
     "text": [
      "Enter the length: 20\n",
      "Enter the width :20\n",
      "The area of rectangle of  400\n"
     ]
    }
   ],
   "source": [
    "length = int(input(\"Enter the length: \"))\n",
    "width = int(input(\"Enter the width :\"))\n",
    "\n",
    "print('The area of rectangle of ',length*width)"
   ]
  },
  {
   "cell_type": "markdown",
   "id": "2eecec35",
   "metadata": {},
   "source": [
    " (2) Create a program that takes a user's name and age as input and prints a greeting message"
   ]
  },
  {
   "cell_type": "code",
   "execution_count": 2,
   "id": "eae7a3ac",
   "metadata": {},
   "outputs": [
    {
     "name": "stdout",
     "output_type": "stream",
     "text": [
      "Enter the Name: deep\n",
      "Enter the age: 26\n",
      "hello my name is deep , my  age is 26\n"
     ]
    }
   ],
   "source": [
    "user_name = input(\"Enter the Name: \")\n",
    "age = int(input(\"Enter the age: \"))\n",
    "\n",
    "print(f'hello my name is {user_name} , my  age is {age}')"
   ]
  },
  {
   "cell_type": "markdown",
   "id": "27919f7a",
   "metadata": {},
   "source": [
    "(3) Write a program to check if a number is even or odd"
   ]
  },
  {
   "cell_type": "code",
   "execution_count": 3,
   "id": "daaa9857",
   "metadata": {},
   "outputs": [
    {
     "name": "stdout",
     "output_type": "stream",
     "text": [
      "Enter the number : 15\n",
      "This number is Odd\n"
     ]
    }
   ],
   "source": [
    "number = int(input(\"Enter the number : \"))\n",
    "\n",
    "if number %2 ==0:\n",
    "    print(\"This number is Even.\")\n",
    "else:\n",
    "    print(\"This number is Odd\")"
   ]
  },
  {
   "cell_type": "markdown",
   "id": "a9a6ecf8",
   "metadata": {},
   "source": [
    "(4) Given a list of numbers, find the maximum and minimum values."
   ]
  },
  {
   "cell_type": "code",
   "execution_count": 4,
   "id": "a4638a9f",
   "metadata": {},
   "outputs": [
    {
     "name": "stdout",
     "output_type": "stream",
     "text": [
      "enter the list of number value: 100\n",
      "the minimun number is  100\n",
      "the max values is  100\n"
     ]
    }
   ],
   "source": [
    "\n",
    "user_enter_list_of_numbers = input('enter the list of number value: ').split(',')\n",
    "My_list=[int(item) for item in user_enter_list_of_numbers]\n",
    "\n",
    "\n",
    "minimum_value = My_list[0]\n",
    "maximum_value = My_list[0]\n",
    "\n",
    "for item in My_list:\n",
    "    if item > maximum_value:\n",
    "        maximum_value = item\n",
    "        \n",
    "    if item < minimum_value:\n",
    "        minimum_value = item\n",
    "print('the minimun number is ',minimum_value)\n",
    "print('the max values is ', maximum_value)\n",
    "\n",
    "\n"
   ]
  },
  {
   "cell_type": "markdown",
   "id": "c80757d4",
   "metadata": {},
   "source": [
    "(5) Create a Python function to check if a given string is a palindrome"
   ]
  },
  {
   "cell_type": "code",
   "execution_count": 5,
   "id": "0595510e",
   "metadata": {},
   "outputs": [
    {
     "name": "stdout",
     "output_type": "stream",
     "text": [
      "Enter the string Python\n",
      "Not palindrome\n"
     ]
    }
   ],
   "source": [
    "\n",
    "user_Enter_string = input('Enter the string ')\n",
    "\n",
    "reverse_string = \"\"  \n",
    "\n",
    "for char in user_Enter_string:\n",
    "    reverse_string = char + reverse_string\n",
    "\n",
    "if user_Enter_string == reverse_string:\n",
    "    print(\"Yes this is palindrome\")\n",
    "else:\n",
    "    print(\"Not palindrome\")\n",
    "\n"
   ]
  },
  {
   "cell_type": "markdown",
   "id": "359038ed",
   "metadata": {},
   "source": [
    "(6) Calculate the compound interest for a given principal amount, interest rate, and time period"
   ]
  },
  {
   "cell_type": "code",
   "execution_count": 6,
   "id": "8168dbe2",
   "metadata": {},
   "outputs": [
    {
     "name": "stdout",
     "output_type": "stream",
     "text": [
      "Compound interest is 6288.946267774416\n"
     ]
    }
   ],
   "source": [
    "\n",
    "def compound_interest(principal, rate, time):\n",
    " \n",
    "    \n",
    "    Amount = principal * (pow((1 + rate / 100), time))\n",
    "    CI = Amount - principal\n",
    "    print(\"Compound interest is\", CI)\n",
    " \n",
    " \n",
    "\n",
    "compound_interest(10000, 10.25, 5)"
   ]
  },
  {
   "cell_type": "markdown",
   "id": "6feea6f8",
   "metadata": {},
   "source": [
    "(7) Write a program that converts a given number of days into years, weeks, and days"
   ]
  },
  {
   "cell_type": "code",
   "execution_count": 7,
   "id": "b6218dd7",
   "metadata": {},
   "outputs": [
    {
     "name": "stdout",
     "output_type": "stream",
     "text": [
      "enter number :5\n",
      "5\n",
      "0\n",
      "0\n"
     ]
    }
   ],
   "source": [
    "user_enter_days = int(input('enter number :'))\n",
    "\n",
    "day=int((user_enter_days%365))%7\n",
    "week=int((user_enter_days%365)/7)\n",
    "year=int(user_enter_days/365)\n",
    "\n",
    "print(day)\n",
    "print(week)\n",
    "print(year)"
   ]
  },
  {
   "cell_type": "markdown",
   "id": "ff11f55b",
   "metadata": {},
   "source": [
    "(8) Given a list of integers, find the sum of all positive numbers"
   ]
  },
  {
   "cell_type": "code",
   "execution_count": 8,
   "id": "529ecac5",
   "metadata": {},
   "outputs": [
    {
     "name": "stdout",
     "output_type": "stream",
     "text": [
      "enter the list of integers with comma separate values : 2,3,4,5,6\n",
      "20\n"
     ]
    }
   ],
   "source": [
    "enter_list_integers = input(\"enter the list of integers with comma separate values : \").split(',')\n",
    "my_list = [int(item) for item in enter_list_integers]\n",
    "\n",
    "result = 0\n",
    "\n",
    "for item in my_list:\n",
    "    \n",
    "    result += item\n",
    "    \n",
    "print(result)\n",
    "\n",
    "    "
   ]
  },
  {
   "cell_type": "code",
   "execution_count": null,
   "id": "3381fc5e",
   "metadata": {},
   "outputs": [],
   "source": []
  },
  {
   "cell_type": "markdown",
   "id": "91b494b5",
   "metadata": {},
   "source": [
    "(9) Create a program that takes a sentence as input and counts the number of words in it"
   ]
  },
  {
   "cell_type": "code",
   "execution_count": 9,
   "id": "362aef0a",
   "metadata": {},
   "outputs": [
    {
     "name": "stdout",
     "output_type": "stream",
     "text": [
      "Enter the sentence with space seperatly : Python is programming language\n",
      "4\n"
     ]
    }
   ],
   "source": [
    "# user_enter_sentence = input('Enter the sentence with space seperatly : ')\n",
    "\n",
    "# count_the_number_words = len(user_enter_sentence.split(' '))\n",
    "# print(count_the_number_words)\n",
    "\n",
    "user_enter_sentence = input('Enter the sentence with space seperatly : ').split(' ')\n",
    "\n",
    "word_count = 0\n",
    "\n",
    "for item in user_enter_sentence:\n",
    "    word_count += 1\n",
    "print(word_count)\n"
   ]
  },
  {
   "cell_type": "markdown",
   "id": "607c3ec6",
   "metadata": {},
   "source": [
    "(10) Implement a program that swaps the values of two variables."
   ]
  },
  {
   "cell_type": "code",
   "execution_count": 10,
   "id": "034c60e1",
   "metadata": {},
   "outputs": [
    {
     "name": "stdout",
     "output_type": "stream",
     "text": [
      "enter the first variable : 10\n",
      "enter the secound variable : 5\n",
      "5\n",
      "10\n"
     ]
    }
   ],
   "source": [
    "\n",
    "\n",
    "x = int(input('enter the first variable : '))\n",
    "y = int(input('enter the secound variable : '))\n",
    "\n",
    "temporary_variable = x\n",
    "x = y\n",
    "y = temporary_variable\n",
    "\n",
    "\n",
    "print(x)\n",
    "print(y)\n",
    "      "
   ]
  },
  {
   "cell_type": "markdown",
   "id": "cf0d832d",
   "metadata": {},
   "source": [
    "(11) Given a list of numbers, create a function to find the sum of all positive numbers."
   ]
  },
  {
   "cell_type": "code",
   "execution_count": 11,
   "id": "5f6b9576",
   "metadata": {},
   "outputs": [
    {
     "name": "stdout",
     "output_type": "stream",
     "text": [
      "enter the list of number separate by comma : 1,2,3,4,5,6,7,8,9,10\n",
      "55\n"
     ]
    }
   ],
   "source": [
    "\n",
    "list_number =input('enter the list of number separate by comma : ').split(',')\n",
    "\n",
    "my_list=[int(item) for item in list_number]\n",
    "\n",
    "result = 0\n",
    "for value in my_list:\n",
    "    result += value\n",
    "print(result)\n"
   ]
  },
  {
   "cell_type": "code",
   "execution_count": null,
   "id": "9cbc8608",
   "metadata": {},
   "outputs": [],
   "source": []
  },
  {
   "cell_type": "markdown",
   "id": "c6e2eb7b",
   "metadata": {},
   "source": [
    "(12) Create a program that takes a temperature in Celsius and converts it to Kelvin."
   ]
  },
  {
   "cell_type": "code",
   "execution_count": 12,
   "id": "309b4cc7",
   "metadata": {},
   "outputs": [
    {
     "name": "stdout",
     "output_type": "stream",
     "text": [
      "Enter the celsius : 27\n",
      "300.15\n"
     ]
    }
   ],
   "source": [
    "# K = C + 273.15  c-k\n",
    "temp = int(input('Enter the celsius : '))\n",
    "\n",
    "print(temp + 273.15)\n"
   ]
  },
  {
   "cell_type": "markdown",
   "id": "1bcaf3c5",
   "metadata": {},
   "source": [
    "(13) Implement a program that checks if a given string is a palindrome"
   ]
  },
  {
   "cell_type": "code",
   "execution_count": 13,
   "id": "c9c446a4",
   "metadata": {},
   "outputs": [
    {
     "name": "stdout",
     "output_type": "stream",
     "text": [
      "Enter the string : malayalam\n",
      "this is palindrome\n"
     ]
    }
   ],
   "source": [
    "# string = input('enter the string: ')\n",
    "# if string[::-1] ==s:\n",
    "#     print('This is palindrome')\n",
    "# else:\n",
    "#     print('this is not palindrome')\n",
    "\n",
    "\n",
    "\n",
    "user = input(\"Enter the string : \")\n",
    "\n",
    "result = \"\"\n",
    "\n",
    "for item in user:\n",
    "    result = item + result\n",
    "    \n",
    "if user == result:\n",
    "    print('this is palindrome')\n",
    "else:\n",
    "    print('this is not palindrome')"
   ]
  },
  {
   "cell_type": "markdown",
   "id": "909bb69c",
   "metadata": {},
   "source": [
    "(14) Create a function to reverse a given string"
   ]
  },
  {
   "cell_type": "code",
   "execution_count": 14,
   "id": "022627a5",
   "metadata": {},
   "outputs": [
    {
     "name": "stdout",
     "output_type": "stream",
     "text": [
      "Enter the stringPython\n",
      "The reverse string is :  nohtyP\n"
     ]
    }
   ],
   "source": [
    "# user = input('enter the string : ')\n",
    "\n",
    "# length = len(user)\n",
    "# reverse_string = \"\"\n",
    "\n",
    "# while length>0:\n",
    "#     reverse_string += user[length-1]\n",
    "#     length = length-1\n",
    "# print(reverse_string)\n",
    "\n",
    "\n",
    "# using for loops\n",
    "\n",
    "input_string = input(\"Enter the string\")\n",
    "\n",
    "reverse_string = \"\"\n",
    "\n",
    "for item in range(len(input_string)-1,-1,-1):\n",
    "    reverse_string +=input_string[item]\n",
    "    \n",
    "print('The reverse string is : ',reverse_string)"
   ]
  },
  {
   "cell_type": "code",
   "execution_count": 15,
   "id": "ad1d7994",
   "metadata": {},
   "outputs": [
    {
     "name": "stdout",
     "output_type": "stream",
     "text": [
      "olleH\n"
     ]
    }
   ],
   "source": [
    "# slicing\n",
    "str1 = \"Hello\"\n",
    "print(str1[::-1])"
   ]
  },
  {
   "cell_type": "code",
   "execution_count": 16,
   "id": "0b4ee306",
   "metadata": {},
   "outputs": [
    {
     "data": {
      "text/plain": [
       "'elppa'"
      ]
     },
     "execution_count": 16,
     "metadata": {},
     "output_type": "execute_result"
    }
   ],
   "source": [
    "def re(str):\n",
    "    return str[::-1]\n",
    "re('apple')"
   ]
  },
  {
   "cell_type": "markdown",
   "id": "d6d5d522",
   "metadata": {},
   "source": [
    "(15) Concatenate a list of names into a single string separated by spaces."
   ]
  },
  {
   "cell_type": "code",
   "execution_count": 17,
   "id": "754fc101",
   "metadata": {},
   "outputs": [
    {
     "name": "stdout",
     "output_type": "stream",
     "text": [
      "enter the list of string with comma separate value: Python,c,java,ML\n",
      "Python c java ML\n"
     ]
    }
   ],
   "source": [
    "# list1 = ['Python','is','language']\n",
    "\n",
    "# res = ' '.join([i.strip() for i in list1])\n",
    "# print(res)\n",
    "\n",
    "list_of_name=input('enter the list of string with comma separate value: ').split(',')\n",
    "\n",
    "result=\" \".join([item.strip() for item in list_of_name])\n",
    "print(result)"
   ]
  },
  {
   "cell_type": "code",
   "execution_count": 18,
   "id": "a8b45e5b",
   "metadata": {},
   "outputs": [
    {
     "name": "stdout",
     "output_type": "stream",
     "text": [
      "enter the list of string with comma separate value: Python,Java\n",
      "Python Java\n"
     ]
    }
   ],
   "source": [
    "# using for loop\n",
    "# list2 =['hello','how','are','you']\n",
    "# my_str=''\n",
    "# for i in list2:\n",
    "#     my_str = my_str +' '+ i\n",
    "# print(my_str.strip())\n",
    "# print(\"kkkkk\")\n",
    "\n",
    "list_of_name=input('enter the list of string with comma separate value: ').split(',')\n",
    "\n",
    "my_string=\"\"\n",
    "\n",
    "for item in list_of_name:\n",
    "    my_string = my_string + \" \" + item\n",
    "print(my_string.strip())\n",
    "# print('hello')"
   ]
  },
  {
   "cell_type": "code",
   "execution_count": null,
   "id": "cce06d7b",
   "metadata": {},
   "outputs": [],
   "source": []
  },
  {
   "cell_type": "markdown",
   "id": "fa0e9f77",
   "metadata": {},
   "source": [
    "(16) Write a Python program to check if a given string is a pangram (contains all letters of the alphabet)"
   ]
  },
  {
   "cell_type": "code",
   "execution_count": 19,
   "id": "ea12f7d6",
   "metadata": {},
   "outputs": [
    {
     "name": "stdout",
     "output_type": "stream",
     "text": [
      "Enter a string: Python\n",
      "string is not a pangram.\n"
     ]
    }
   ],
   "source": [
    "# string = \"The quick brown fox jumps over the lazy dog\"\n",
    "# The five boxing wizards jump quickly\"\n",
    "# \"When zombies arrive, quickly fax Judge Pat\"\n",
    "# \"Two driven jocks help fax my big quiz\"\n",
    "# \"Bright vixens jump; dozy fowl quack\n",
    "\n",
    "\n",
    "a_to_z_charactor = \"abcdefghijklmnopqrstuvwxyz\"\n",
    "\n",
    "user_input_string = input(\"Enter a string: \").lower()\n",
    "\n",
    "is_pangram = True\n",
    "\n",
    "for charactor in a_to_z_charactor:\n",
    "    if charactor not in user_input_string:\n",
    "        is_pangram = False\n",
    "        \n",
    "        break\n",
    "\n",
    "if is_pangram:\n",
    "    print(\"The string is a pangram.\")\n",
    "else:\n",
    "    print(\"string is not a pangram.\")\n",
    "\n",
    "\n",
    "    \n",
    "  \n"
   ]
  },
  {
   "cell_type": "code",
   "execution_count": null,
   "id": "3755ed76",
   "metadata": {},
   "outputs": [],
   "source": []
  },
  {
   "cell_type": "markdown",
   "id": "98d16976",
   "metadata": {},
   "source": [
    "(17) Calculate the area and circumference of a circle, given its radius"
   ]
  },
  {
   "cell_type": "code",
   "execution_count": 20,
   "id": "f59423ec",
   "metadata": {},
   "outputs": [
    {
     "name": "stdout",
     "output_type": "stream",
     "text": [
      "Enter the circle radius: 20\n",
      "1256.0\n"
     ]
    }
   ],
   "source": [
    "radius = int(input(\"Enter the circle radius: \"))\n",
    "\n",
    "# # A = 3.14r**2\n",
    "\n",
    "area = 3.14*radius**2\n",
    "print(area)\n"
   ]
  },
  {
   "cell_type": "markdown",
   "id": "dd791415",
   "metadata": {},
   "source": [
    "(18) Implement a program that converts a given number of minutes into hours and minutes"
   ]
  },
  {
   "cell_type": "code",
   "execution_count": 21,
   "id": "ea540129",
   "metadata": {},
   "outputs": [
    {
     "name": "stdout",
     "output_type": "stream",
     "text": [
      "Entered Minutes: 60\n",
      "1:0\n"
     ]
    }
   ],
   "source": [
    "Enter_the_minutes = int(input('Entered Minutes: '))\n",
    "\n",
    "hours = Enter_the_minutes // 60\n",
    "minutes = Enter_the_minutes % 60\n",
    "time = f\"{hours}:{minutes}\"\n",
    "\n",
    "print(time)"
   ]
  },
  {
   "cell_type": "markdown",
   "id": "1d3474d0",
   "metadata": {},
   "source": [
    "(19) Create a function to count the number of vowels in a given string"
   ]
  },
  {
   "cell_type": "code",
   "execution_count": 22,
   "id": "98e6ace7",
   "metadata": {},
   "outputs": [
    {
     "name": "stdout",
     "output_type": "stream",
     "text": [
      "Enter a string: Hello\n",
      "Number of vowels: 2\n"
     ]
    }
   ],
   "source": [
    "\n",
    "vowels = \"aeiouAEIOU\"\n",
    "\n",
    "input_string = input(\"Enter a string: \")\n",
    "\n",
    "count = 0\n",
    "\n",
    "idx = 0\n",
    "while idx < len(input_string):\n",
    "    if input_string[idx] in vowels:\n",
    "        count = count + 1\n",
    "    idx = idx + 1\n",
    "\n",
    "print(\"Number of vowels:\", count)"
   ]
  },
  {
   "cell_type": "markdown",
   "id": "db91227c",
   "metadata": {},
   "source": [
    "(20) Write a program to check if a number is prime."
   ]
  },
  {
   "cell_type": "code",
   "execution_count": 23,
   "id": "3dd9a05a",
   "metadata": {},
   "outputs": [
    {
     "name": "stdout",
     "output_type": "stream",
     "text": [
      "enter the number: 7\n",
      "7 prime number\n"
     ]
    }
   ],
   "source": [
    "number = int(input('enter the number: '))\n",
    "\n",
    "\n",
    "if number == 0 or number == 1:\n",
    "    print(number, \"is not a prime number\")\n",
    "elif number > 1:\n",
    "    for item in range(2,number):\n",
    "        \n",
    "        if  number % item == 0:\n",
    "            print(number,\"not a prime number\")\n",
    "            print(item,\"times\",number//item,\"is\",number)\n",
    "            break\n",
    "            \n",
    "    else:\n",
    "        print(number,\"prime number\")\n",
    "            \n",
    "else:\n",
    "    print(number,\"not prime number\")"
   ]
  },
  {
   "cell_type": "markdown",
   "id": "0dccf511",
   "metadata": {},
   "source": [
    "(21) Create a program that takes a year as input and checks if it is a leap year or not"
   ]
  },
  {
   "cell_type": "code",
   "execution_count": 24,
   "id": "f1c8a914",
   "metadata": {},
   "outputs": [
    {
     "name": "stdout",
     "output_type": "stream",
     "text": [
      "Enter the Year: 2\n",
      "Not a leap year\n"
     ]
    }
   ],
   "source": [
    "year = int(input(\"Enter the Year: \"))\n",
    "\n",
    "if (year % 4 == 0 and year % 100 != 0) or (year % 400 == 0):\n",
    "    print(\"Leap year\") \n",
    "    \n",
    "else:\n",
    "    print(\"Not a leap year\")  "
   ]
  },
  {
   "cell_type": "markdown",
   "id": "7cc0bb97",
   "metadata": {},
   "source": [
    "(22) Given a list of integers, find all the even numbers and store them in a new list)"
   ]
  },
  {
   "cell_type": "code",
   "execution_count": 25,
   "id": "62b1bdb5",
   "metadata": {},
   "outputs": [
    {
     "name": "stdout",
     "output_type": "stream",
     "text": [
      "enter the list of integers value seperated by comma : 1,2,3,-1,0,500\n",
      "[2, 0, 500]\n"
     ]
    }
   ],
   "source": [
    "# list_integers = [1,2,3,4,5,6,7,8,-4,-8]\n",
    "list_integers = input('enter the list of integers value seperated by comma : ').split(',')\n",
    "my_list=[int(item) for item in list_integers]\n",
    "\n",
    "new_list = list()\n",
    "\n",
    "for number in my_list:\n",
    "    if number %2 ==0:\n",
    "        new_list.append(number)\n",
    "    \n",
    "print(new_list)"
   ]
  },
  {
   "cell_type": "markdown",
   "id": "a10d5d9b",
   "metadata": {},
   "source": [
    "(23) Write a Python program to check if a given number is a prime number"
   ]
  },
  {
   "cell_type": "code",
   "execution_count": 26,
   "id": "6cff152a",
   "metadata": {},
   "outputs": [
    {
     "name": "stdout",
     "output_type": "stream",
     "text": [
      "enter the number: 11\n",
      "11 prime number\n"
     ]
    }
   ],
   "source": [
    "number = int(input('enter the number: '))\n",
    "\n",
    "\n",
    "if number == 0 or number == 1:\n",
    "    print(number, \"is not a prime number\")\n",
    "elif number > 1:\n",
    "    for item in range(2,number):\n",
    "        \n",
    "        if  number % item == 0:\n",
    "            print(f\"{number} not a prime number\")\n",
    "            print(f\"{item} times {number//item} is {number}\")\n",
    "            break\n",
    "            \n",
    "    else:\n",
    "        print(number,\"prime number\")\n",
    "            \n",
    "else:\n",
    "    print(number,\"not prime number\")\n"
   ]
  },
  {
   "cell_type": "markdown",
   "id": "a208dee5",
   "metadata": {},
   "source": [
    "(24) Create a program that generates the Fibonacci sequence up to a given number of terms)"
   ]
  },
  {
   "cell_type": "code",
   "execution_count": 27,
   "id": "8d1ea8c7",
   "metadata": {},
   "outputs": [
    {
     "name": "stdout",
     "output_type": "stream",
     "text": [
      "enter the number: 10\n",
      "1 2 3 5 8 13 21 34 55 89 \n"
     ]
    }
   ],
   "source": [
    "number = int(input('enter the number: ')) \n",
    "a = 0\n",
    "b = 1\n",
    "next = b  \n",
    "count = 1\n",
    "\n",
    "while count <= number:\n",
    "    print(next, end=\" \")\n",
    "    count += 1\n",
    "    a, b = b, next\n",
    "    next = a + b\n",
    "print()\n",
    "\n"
   ]
  },
  {
   "cell_type": "markdown",
   "id": "0a3dc2a7",
   "metadata": {},
   "source": [
    "(25) Given a list of names, print all names starting with the letter 'A'"
   ]
  },
  {
   "cell_type": "code",
   "execution_count": 28,
   "id": "15bdda0d",
   "metadata": {},
   "outputs": [
    {
     "name": "stdout",
     "output_type": "stream",
     "text": [
      "enter the list of names with comma separated value: hello,world\n",
      "orignal list name: ['hello', 'world']\n",
      "A with name: []\n"
     ]
    }
   ],
   "source": [
    "\n",
    "my_list = input('enter the list of names with comma separated value: ').split(',')\n",
    "\n",
    "check = 'A'\n",
    " \n",
    "print('orignal list name:',str(my_list))\n",
    "\n",
    "result = [item for item in my_list if item[0].lower() == check.lower()]\n",
    " \n",
    "print('A with name:',str(result))"
   ]
  },
  {
   "cell_type": "markdown",
   "id": "518b921d",
   "metadata": {},
   "source": [
    "(26) Implement a program that prints the multiplication table of a given number"
   ]
  },
  {
   "cell_type": "code",
   "execution_count": 29,
   "id": "c2d76488",
   "metadata": {},
   "outputs": [
    {
     "name": "stdout",
     "output_type": "stream",
     "text": [
      "Enter the table Number: 13\n",
      "13 x 1 = 13\n",
      "13 x 2 = 26\n",
      "13 x 3 = 39\n",
      "13 x 4 = 52\n",
      "13 x 5 = 65\n",
      "13 x 6 = 78\n",
      "13 x 7 = 91\n",
      "13 x 8 = 104\n",
      "13 x 9 = 117\n",
      "13 x 10 = 130\n"
     ]
    }
   ],
   "source": [
    "Number = int(input(\"Enter the table Number: \"))\n",
    "\n",
    "for item in range(1,11):\n",
    "    print(Number,'x',item,'=',Number*item)"
   ]
  },
  {
   "cell_type": "markdown",
   "id": "33f45400",
   "metadata": {},
   "source": [
    "(27) Write a program that calculates the factorial of a given number"
   ]
  },
  {
   "cell_type": "code",
   "execution_count": 30,
   "id": "76a7746a",
   "metadata": {},
   "outputs": [
    {
     "name": "stdout",
     "output_type": "stream",
     "text": [
      "enter the number5\n",
      "The factorial of 5 is 120\n"
     ]
    }
   ],
   "source": [
    "# using recursive function \n",
    "# def factorial(n):\n",
    "#     if n ==0:\n",
    "#         return 1\n",
    "#     else:\n",
    "#         return n * factorial(n-1)\n",
    "    \n",
    "# print(factorial(0))\n",
    "\n",
    "number = int(input('enter the number'))\n",
    "factorial = 1\n",
    "\n",
    "\n",
    "if number < 0:\n",
    "    print(\"not allowed nagetive number\")\n",
    "elif number == 0:\n",
    "    print(\"The factorial of 0 is 1\")\n",
    "else:\n",
    "    for i in range(1,number + 1):\n",
    "        factorial = factorial*i\n",
    "    print(\"The factorial of\",number,\"is\",factorial)"
   ]
  },
  {
   "cell_type": "markdown",
   "id": "5e261dd2",
   "metadata": {},
   "source": [
    "(28) Create a loop that prints all prime numbers between 1 and 50"
   ]
  },
  {
   "cell_type": "code",
   "execution_count": 31,
   "id": "fb634f20",
   "metadata": {},
   "outputs": [
    {
     "name": "stdout",
     "output_type": "stream",
     "text": [
      "enter the number: 3\n",
      "3 prime number\n"
     ]
    }
   ],
   "source": [
    "# for number in range(1,51):\n",
    "#     if number%2 !=0:\n",
    "#         print(number,end=', ')\n",
    "number = int(input('enter the number: '))\n",
    "\n",
    "\n",
    "if number == 0 or number == 1:\n",
    "    print(number, \"is not a prime number\")\n",
    "elif number > 1:\n",
    "    for item in range(2,number):\n",
    "        \n",
    "        if  number % item == 0:\n",
    "            print(f\"{number} not a prime number\")\n",
    "            print(f\"{item} times {number//item} is {number}\")\n",
    "            break\n",
    "            \n",
    "    else:\n",
    "        print(number,\"prime number\")\n",
    "            \n",
    "else:\n",
    "    print(number,\"not prime number\")\n"
   ]
  },
  {
   "cell_type": "markdown",
   "id": "4c2de2f9",
   "metadata": {},
   "source": [
    "(29) Given a list of words, count the number of words with more than five characters)"
   ]
  },
  {
   "cell_type": "code",
   "execution_count": 32,
   "id": "85e62185",
   "metadata": {},
   "outputs": [
    {
     "name": "stdout",
     "output_type": "stream",
     "text": [
      "enter the list of word with comma separate value: Python,hello,world\n",
      "Number of words with more than five characters: 1\n"
     ]
    }
   ],
   "source": [
    "list_word =input('enter the list of word with comma separate value: ').split(',')\n",
    "\n",
    "count = 0\n",
    "\n",
    "for word in list_word:\n",
    "    if len(word) > 5:\n",
    "        count += 1\n",
    "\n",
    "print(\"Number of words with more than five characters:\", count)\n",
    "\n"
   ]
  },
  {
   "cell_type": "markdown",
   "id": "b977a1f7",
   "metadata": {},
   "source": [
    "(30) Calculate the sum of digits of a given number."
   ]
  },
  {
   "cell_type": "code",
   "execution_count": 33,
   "id": "bf67d5b0",
   "metadata": {},
   "outputs": [
    {
     "name": "stdout",
     "output_type": "stream",
     "text": [
      "enter the digit: 325\n",
      "10\n"
     ]
    }
   ],
   "source": [
    "number = int((input('enter the digit: ')))\n",
    "\n",
    "\n",
    "sum = 0\n",
    "\n",
    "while number !=0:\n",
    "    \n",
    "    digit = int(number%10)\n",
    "    sum += digit\n",
    "    number = number /10\n",
    "print(sum)\n"
   ]
  },
  {
   "cell_type": "code",
   "execution_count": null,
   "id": "6a08a97d",
   "metadata": {},
   "outputs": [],
   "source": []
  }
 ],
 "metadata": {
  "kernelspec": {
   "display_name": "Python 3 (ipykernel)",
   "language": "python",
   "name": "python3"
  },
  "language_info": {
   "codemirror_mode": {
    "name": "ipython",
    "version": 3
   },
   "file_extension": ".py",
   "mimetype": "text/x-python",
   "name": "python",
   "nbconvert_exporter": "python",
   "pygments_lexer": "ipython3",
   "version": "3.10.9"
  }
 },
 "nbformat": 4,
 "nbformat_minor": 5
}
