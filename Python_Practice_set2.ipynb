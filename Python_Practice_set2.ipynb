{
 "cells": [
  {
   "cell_type": "markdown",
   "id": "8e5549b9",
   "metadata": {},
   "source": [
    "(1) Given two lists of numbers, concatenate them into a single list"
   ]
  },
  {
   "cell_type": "code",
   "execution_count": 8,
   "id": "474330b6",
   "metadata": {},
   "outputs": [
    {
     "name": "stdout",
     "output_type": "stream",
     "text": [
      "enter the list of integers value seperated by comma : 1,2,3\n",
      "enter the list of integers value seperated by comma : 4\n",
      "['1', '2', '3', '4']\n"
     ]
    }
   ],
   "source": [
    "list_integers1 = input('enter the list of integers value seperated by comma : ').split(',')\n",
    "my_list=[int(item) for item in list_integers1]\n",
    "\n",
    "list_integers2 = input('enter the list of integers value seperated by comma : ').split(',')\n",
    "my_list=[int(item) for item in list_integers2]\n",
    "\n",
    "print(list_integers1  + list_integers2)"
   ]
  },
  {
   "cell_type": "markdown",
   "id": "e6260d65",
   "metadata": {},
   "source": [
    "(2) Write a program that finds the largest and smallest elements in a list"
   ]
  },
  {
   "cell_type": "code",
   "execution_count": 9,
   "id": "c5a8cdd0",
   "metadata": {},
   "outputs": [
    {
     "name": "stdout",
     "output_type": "stream",
     "text": [
      "Enter the values separeted by comma : 1,2,3,4,800\n",
      "the largest elements is : 800\n",
      "the smallest emements is : 1\n"
     ]
    }
   ],
   "source": [
    "# list1 = [10,8,2,1,9]\n",
    "# list1=input(list)\n",
    "user_input = input(\"Enter the values separeted by comma : \").split(',')\n",
    "\n",
    "my_list = [int(item) for item in user_input]\n",
    "\n",
    "largest = my_list [0]\n",
    "smallest = my_list [0]\n",
    "\n",
    "for item in my_list :\n",
    "    if item > largest:\n",
    "        largest = item\n",
    "    if item < smallest:\n",
    "        smallest = item\n",
    "print('the largest elements is :',largest)\n",
    "print('the smallest emements is :',smallest)"
   ]
  },
  {
   "cell_type": "markdown",
   "id": "aca7cf45",
   "metadata": {},
   "source": [
    "(3) Implement a function that takes a list of numbers and returns a new list with the squared values"
   ]
  },
  {
   "cell_type": "code",
   "execution_count": 49,
   "id": "78f5ed10",
   "metadata": {},
   "outputs": [
    {
     "name": "stdout",
     "output_type": "stream",
     "text": [
      "Enter the list of number values separeted by comma  : 12,13,14,15\n",
      "[144, 169, 196, 225]\n"
     ]
    }
   ],
   "source": [
    "# list1=[1,2,3]\n",
    "\n",
    "# new_list=[]\n",
    "\n",
    "# for i in list1:\n",
    "#     new_list.append(i**2)\n",
    "# print(new_list)\n",
    "\n",
    "\n",
    "my_list = input(\"Enter the list of number values separeted by comma  : \").split(',')\n",
    "\n",
    "new_list = [int(item) for item in my_list]\n",
    "# print(x_list)\n",
    "result = []\n",
    "for item in new_list:\n",
    "    result.append(item**2)\n",
    "print(result)"
   ]
  },
  {
   "cell_type": "markdown",
   "id": "28a9a663",
   "metadata": {},
   "source": [
    "(4) Create a program that finds the common elements between two lists and stores them in a new list"
   ]
  },
  {
   "cell_type": "code",
   "execution_count": 12,
   "id": "7d9918b7",
   "metadata": {},
   "outputs": [
    {
     "name": "stdout",
     "output_type": "stream",
     "text": [
      "Enter the first list of value separeted by comma  : 1,2,3\n",
      "Enter the secound list of value separeted by comma  : 2,3,4\n",
      "['2', '3']\n"
     ]
    }
   ],
   "source": [
    "my_first_list= input(\"Enter the first list of value separeted by comma  : \").split(',')\n",
    "my_secound_list= input(\"Enter the secound list of value separeted by comma  : \").split(',')\n",
    "\n",
    "new_list=list(set(my_first_list).intersection(set(my_secound_list)))\n",
    "print(new_list)\n"
   ]
  },
  {
   "cell_type": "markdown",
   "id": "9861c183",
   "metadata": {},
   "source": [
    "(5) Given a list of words, find the word with the maximum length and its length"
   ]
  },
  {
   "cell_type": "code",
   "execution_count": 48,
   "id": "90dd843b",
   "metadata": {},
   "outputs": [
    {
     "name": "stdout",
     "output_type": "stream",
     "text": [
      "Enter the  list of word separeted by comma  : apple,banana,cherry,watermelon,yellow\n",
      "Longest word: watermelon\n",
      "Length: 10\n"
     ]
    }
   ],
   "source": [
    "list_of_words =input(\"Enter the  list of word separeted by comma  : \").split(',')\n",
    "\n",
    "\n",
    "maximum_word = \"\"\n",
    "\n",
    "maximum_length = 0\n",
    "\n",
    "\n",
    "for word in list_of_words:\n",
    "    \n",
    "    length = 0\n",
    "    for item in word:\n",
    "        length += 1\n",
    "\n",
    "    \n",
    "    if length > maximum_length:\n",
    "        maximum_length = length\n",
    "        maximum_word = word\n",
    "\n",
    "print(\"Longest word:\", maximum_word)\n",
    "print(\"Length:\",  maximum_length)"
   ]
  },
  {
   "cell_type": "markdown",
   "id": "0b4b34ca",
   "metadata": {},
   "source": [
    "(6) Write a Python program to count the occurrences of each element in a given list"
   ]
  },
  {
   "cell_type": "code",
   "execution_count": 47,
   "id": "c33f48b1",
   "metadata": {
    "scrolled": true
   },
   "outputs": [
    {
     "name": "stdout",
     "output_type": "stream",
     "text": [
      "enter the list of data separeted by comma : 1,2,2,3,3,3,4,4,4,4,5,5,5,5,5\n",
      "1 : 1\n",
      "2 : 2\n",
      "3 : 3\n",
      "4 : 4\n",
      "5 : 5\n"
     ]
    }
   ],
   "source": [
    "\n",
    "list_of_data = input('enter the list of data separeted by comma : ').split(',')\n",
    "my_list = [int(item) for item in list_of_data]\n",
    "\n",
    "my_dictionary = {}\n",
    "\n",
    "for element in my_list:\n",
    "    \n",
    "    if element in my_dictionary:\n",
    "        my_dictionary[element] += 1\n",
    "    else:\n",
    "        my_dictionary[element] = 1\n",
    "\n",
    "for item in my_dictionary:\n",
    "    print(item, \":\", my_dictionary[item])\n",
    "\n",
    "                    "
   ]
  },
  {
   "cell_type": "markdown",
   "id": "44fe238d",
   "metadata": {},
   "source": [
    "(7) Given a list of names, remove all duplicate names and print the unique names"
   ]
  },
  {
   "cell_type": "code",
   "execution_count": 19,
   "id": "ed618f8d",
   "metadata": {},
   "outputs": [
    {
     "name": "stdout",
     "output_type": "stream",
     "text": [
      "enter the list of name separeted by comma: apple,banana,watermelon,apple,banana\n",
      "['apple', 'banana', 'watermelon']\n"
     ]
    }
   ],
   "source": [
    "# l = ['apple','banana','apple','watermelon','banana']\n",
    "\n",
    "list_of_name = input('enter the list of name separeted by comma: ').split(',')\n",
    "\n",
    "\n",
    "duplicate_list = list()\n",
    "\n",
    "for item in list_of_name:\n",
    "    if item not in duplicate_list:\n",
    "        duplicate_list.append(item)\n",
    "        \n",
    "print(duplicate_list)\n"
   ]
  },
  {
   "cell_type": "code",
   "execution_count": 45,
   "id": "9fbfc539",
   "metadata": {},
   "outputs": [],
   "source": []
  },
  {
   "cell_type": "markdown",
   "id": "534d4f4c",
   "metadata": {},
   "source": [
    "(8) Create a function that takes a list of strings and returns the list sorted by the length of the strings"
   ]
  },
  {
   "cell_type": "code",
   "execution_count": 46,
   "id": "a0627115",
   "metadata": {},
   "outputs": [
    {
     "name": "stdout",
     "output_type": "stream",
     "text": [
      "enter the list of string separeted by comma: apple,banana,cherry,watermelon,white,black,yellow,green,pink\n",
      "pink\n",
      "white\n",
      "black\n",
      "green\n",
      "apple\n",
      "yellow\n",
      "banana\n",
      "cherry\n",
      "watermelon\n"
     ]
    }
   ],
   "source": [
    "list_of_string = input('enter the list of string separeted by comma: ').split(',')\n",
    "\n",
    "for item in range(len(list_of_string)):\n",
    "    for elements in range(item+1,len(list_of_string)):\n",
    "        \n",
    "        if len(list_of_string[item]) > len(list_of_string[elements]):\n",
    "            \n",
    "            list_of_string[item],list_of_string[elements] = list_of_string[elements] , list_of_string[item]\n",
    "            \n",
    "for word in list_of_string:\n",
    "    print(word)\n",
    "\n",
    "\n",
    "\n"
   ]
  },
  {
   "cell_type": "markdown",
   "id": "04ee2aa7",
   "metadata": {},
   "source": [
    "(9) Write a program that checks if a given list is sorted in ascending order"
   ]
  },
  {
   "cell_type": "code",
   "execution_count": 45,
   "id": "8ca971f4",
   "metadata": {},
   "outputs": [
    {
     "name": "stdout",
     "output_type": "stream",
     "text": [
      "enter the list elements separeted by comma :1,2,2,2,3,4\n",
      "[1, 2, 2, 2, 3, 4]\n",
      "True\n"
     ]
    }
   ],
   "source": [
    "user_list=input('enter the list elements separeted by comma :').split(',')\n",
    "\n",
    "my_list =[ int (item) for item in user_list]\n",
    "print(my_list)\n",
    "\n",
    "\n",
    "result = True\n",
    "\n",
    "for item in range(len(my_list) - 1):\n",
    "    \n",
    "    if my_list[item] > my_list[item + 1]:\n",
    "        result = False\n",
    "        break\n",
    "\n",
    "print(result)\n"
   ]
  },
  {
   "cell_type": "markdown",
   "id": "a5d3e07f",
   "metadata": {},
   "source": [
    "(10) Implement a function that takes two lists and returns their union (all unique elements from both lists)."
   ]
  },
  {
   "cell_type": "code",
   "execution_count": 36,
   "id": "fdb0a6ad",
   "metadata": {
    "scrolled": true
   },
   "outputs": [
    {
     "name": "stdout",
     "output_type": "stream",
     "text": [
      "enter the list of value separeted by comma : 1,2,3,4,5\n",
      "enter the list of value separeted by comma : 6,7,8,2,4\n",
      "[1, 2, 3, 4, 5, 6, 7, 8]\n"
     ]
    }
   ],
   "source": [
    "first_list = input('enter the list of value separeted by comma : ').split(',')\n",
    "first_list= [int(item) for item in first_list]\n",
    "\n",
    "secound_list = input('enter the list of value separeted by comma : ').split(',')\n",
    "secound_list= [int(item) for item in secound_list]\n",
    "\n",
    "uniue_elements = list(set(first_list).union(secound_list))\n",
    "print(uniue_elements)"
   ]
  },
  {
   "cell_type": "markdown",
   "id": "d314c2af",
   "metadata": {},
   "source": [
    "(11) Given two dictionaries, merge them into a single dictionary"
   ]
  },
  {
   "cell_type": "code",
   "execution_count": 43,
   "id": "c1dc9a8a",
   "metadata": {},
   "outputs": [
    {
     "name": "stdout",
     "output_type": "stream",
     "text": [
      "Enter the number of entries first dictionary : 2\n",
      "Enter key: one\n",
      "Enter value: 1\n",
      "Enter key: two\n",
      "Enter value: 2\n",
      "{'one': '1', 'two': '2'}\n",
      "Enter the number of entries secound dictionary : 3\n",
      "Enter key: three\n",
      "Enter value: 3\n",
      "Enter key: four\n",
      "Enter value: 4\n",
      "Enter key: five\n",
      "Enter value: 5\n",
      "{'three': '3', 'four': '4', 'five': '5'}\n",
      "{'one': '1', 'two': '2', 'three': '3', 'four': '4', 'five': '5'}\n"
     ]
    }
   ],
   "source": [
    "dictionary_user1 = int(input(\"Enter the number of entries first dictionary : \"))\n",
    "my_first_dict = {input(\"Enter key: \"): input(\"Enter value: \") for item in range(dictionary_user1)}\n",
    "\n",
    "print(my_first_dict)\n",
    "\n",
    "dictionary_user2 = int(input(\"Enter the number of entries secound dictionary : \"))\n",
    "my_secound_dict = {input(\"Enter key: \"): input(\"Enter value: \") for item in range(dictionary_user2)}\n",
    "\n",
    "print(my_secound_dict)\n",
    "\n",
    "merged_dict = {}\n",
    "\n",
    "for key in my_first_dict:\n",
    "    merged_dict[key] = my_first_dict[key]\n",
    "    \n",
    "for key in my_secound_dict:\n",
    "    merged_dict[key] = my_secound_dict[key]\n",
    "    \n",
    "print(merged_dict)\n"
   ]
  },
  {
   "cell_type": "markdown",
   "id": "12e3a257",
   "metadata": {},
   "source": [
    "(12) Write a program that finds the most frequent element in a list"
   ]
  },
  {
   "cell_type": "code",
   "execution_count": 39,
   "id": "24165557",
   "metadata": {},
   "outputs": [
    {
     "name": "stdout",
     "output_type": "stream",
     "text": [
      "enter the value separeted by comma value: 1,2,3,4,2,2,2,2,5\n",
      "2\n"
     ]
    }
   ],
   "source": [
    "\n",
    "user_input=input('enter the value separeted by comma value: ').split(',')\n",
    "\n",
    "my_list=[int(item) for item in user_input]\n",
    "\n",
    "most_frequent = None\n",
    "max_count = 0\n",
    "\n",
    "for item in range(len(my_list)):\n",
    "    current_element = my_list[item]\n",
    "    count = 0\n",
    "    \n",
    "    for elements in range(len(my_list)):\n",
    "        if my_list[elements] == current_element:\n",
    "            count += 1\n",
    "            \n",
    "    if count > max_count:\n",
    "        max_count = count\n",
    "        most_frequent = current_element\n",
    "        \n",
    "print(most_frequent)\n"
   ]
  },
  {
   "cell_type": "markdown",
   "id": "95cbfab4",
   "metadata": {},
   "source": [
    "(13) Implement a function that removes a key-value pair from a dictionary"
   ]
  },
  {
   "cell_type": "code",
   "execution_count": 34,
   "id": "3995cf44",
   "metadata": {},
   "outputs": [
    {
     "name": "stdout",
     "output_type": "stream",
     "text": [
      "Enter the number of entries: 2\n",
      "Enter key: name\n",
      "Enter value: deep\n",
      "Enter key: name\n",
      "Enter value: python\n",
      "{}\n"
     ]
    }
   ],
   "source": [
    "# dictionary = {\"name\": \"Nikki\", \"age\": 25, \"city\": \"New York\"}\n",
    "\n",
    "user_input = int(input(\"Enter the number of entries: \"))\n",
    "dictionary = {input(\"Enter key: \"): input(\"Enter value: \") for item in range(user_input)}\n",
    "\n",
    "result = {key: value for key, value in dictionary.items() if key != \"name\"}\n",
    "\n",
    "print(result)  \n",
    "\n"
   ]
  },
  {
   "cell_type": "markdown",
   "id": "6190584a",
   "metadata": {},
   "source": [
    "(14) Create a program that checks if two sets have any elements in common"
   ]
  },
  {
   "cell_type": "code",
   "execution_count": 33,
   "id": "6c7ce250",
   "metadata": {},
   "outputs": [
    {
     "name": "stdout",
     "output_type": "stream",
     "text": [
      "Common\n",
      "{4}\n"
     ]
    }
   ],
   "source": [
    "s1 = {1, 2, 3, 4, 5}\n",
    "\n",
    "s2={6,7,8,9,4}\n",
    " \n",
    "if s1.isdisjoint(s2):\n",
    "      print(\"not Common\")\n",
    "else:\n",
    "    print(\"Common\")\n",
    "    print(s1.intersection(s2))"
   ]
  },
  {
   "cell_type": "markdown",
   "id": "1bf05312",
   "metadata": {},
   "source": [
    "(15) Given a list of dictionaries, find the dictionary with the highest value for a specific key"
   ]
  },
  {
   "cell_type": "code",
   "execution_count": 29,
   "id": "19a843c4",
   "metadata": {},
   "outputs": [
    {
     "name": "stdout",
     "output_type": "stream",
     "text": [
      "{'name': 'Alice', 'score': 85}\n"
     ]
    }
   ],
   "source": [
    "data = [\n",
    "    {'name': 'Alice', 'score': 85},\n",
    "    {'name': 'Bob', 'score': 30},\n",
    "    {'name': 'Charlie', 'score': 78}\n",
    "]\n",
    "\n",
    "highest = data[0]\n",
    "\n",
    "for item in data[1:]:\n",
    "    if item['score'] > highest['score']:\n",
    "        highest = item\n",
    "        \n",
    "print(highest)\n",
    "\n",
    "\n"
   ]
  },
  {
   "cell_type": "markdown",
   "id": "b4237181",
   "metadata": {},
   "source": [
    "(16) Write a Python program that counts the number of occurrences of each character in a given string using a dictionary"
   ]
  },
  {
   "cell_type": "code",
   "execution_count": 26,
   "id": "7c1b9d61",
   "metadata": {},
   "outputs": [
    {
     "name": "stdout",
     "output_type": "stream",
     "text": [
      "enter the character word: apple\n",
      "Character counts:\n",
      "'a': 1\n",
      "'p': 2\n",
      "'l': 1\n",
      "'e': 1\n"
     ]
    }
   ],
   "source": [
    "input_string = input('enter the character word: ')\n",
    "\n",
    "character_count = {}\n",
    "\n",
    "for item in input_string:\n",
    "    if item in character_count:\n",
    "        character_count[item] += 1 \n",
    "    else:\n",
    "        character_count[item] = 1\n",
    "        \n",
    "        \n",
    "print(\"Character counts:\")\n",
    "\n",
    "for char, count in character_count.items():\n",
    "    print(f\"'{char}': {count}\")\n",
    "    \n",
    "\n",
    "\n"
   ]
  },
  {
   "cell_type": "markdown",
   "id": "2dfd1a31",
   "metadata": {},
   "source": [
    "(17) Given two sets, find the union, intersection, and difference between them"
   ]
  },
  {
   "cell_type": "code",
   "execution_count": 22,
   "id": "e95728a0",
   "metadata": {},
   "outputs": [
    {
     "name": "stdout",
     "output_type": "stream",
     "text": [
      "using '|': {1, 2, 3, 4, 5, 6}\n",
      "using union(): {1, 2, 3, 4, 5, 6}\n",
      "using '&': {3, 4}\n",
      "using '-': {3, 4}\n",
      "using difference(): {1, 2}\n"
     ]
    }
   ],
   "source": [
    "# union\n",
    "A = {1,2,3,4,5}\n",
    "B = {3, 4, 5, 6}\n",
    "\n",
    "result1 = A | B\n",
    "print(\"using '|':\", result1)\n",
    "result2 = A.union(B)\n",
    "print(\"using union():\",result2)\n",
    "\n",
    "# intersection\n",
    "A = {1, 2, 3, 4}\n",
    "B = {3, 4, 5, 6}\n",
    "result = A & B\n",
    "print(\"using '&':\",result)\n",
    "\n",
    "\n",
    "# diffrence\n",
    "\n",
    "A = {1, 2, 3, 4}\n",
    "B = {3, 4, 5, 6}\n",
    "\n",
    "result1 = A - B\n",
    "print(\"using '-':\", result)\n",
    "\n",
    "# Using difference() method\n",
    "result2 = A.difference(B)\n",
    "print(\"using difference():\", result2)\n",
    "\n"
   ]
  },
  {
   "cell_type": "markdown",
   "id": "8eda0eff",
   "metadata": {},
   "source": [
    "(18) Create a function that takes a list of dictionaries and sorts them based on a specified key"
   ]
  },
  {
   "cell_type": "code",
   "execution_count": 19,
   "id": "c5832148",
   "metadata": {},
   "outputs": [
    {
     "name": "stdout",
     "output_type": "stream",
     "text": [
      "How many dictionaries: 3\n",
      "Enter key: age\n",
      "Enter value: 10\n",
      "Enter key: age\n",
      "Enter value: 50\n",
      "Enter key: age\n",
      "Enter value: 8\n",
      "[{'age': 8}, {'age': 10}, {'age': 50}]\n"
     ]
    }
   ],
   "source": [
    "list_of_dictionary = []\n",
    "n = int(input(\"How many dictionaries: \"))\n",
    "\n",
    "for item in range(n):\n",
    "    keys = input(\"Enter key: \")\n",
    "    value = int(input(\"Enter value: \"))\n",
    "    list_of_dictionary.append({keys: value})\n",
    "\n",
    "# print(list_of_dictionary)\n",
    "\n",
    "key = 'age'\n",
    "\n",
    "for item in range(len(list_of_dictionary)):\n",
    "    \n",
    "    for elements in range(item+1, len(list_of_dictionary)):\n",
    "        \n",
    "        if list_of_dictionary[item][key] > list_of_dictionary[elements][key]:\n",
    "            list_of_dictionary[item], list_of_dictionary[elements] = list_of_dictionary[elements], list_of_dictionary[item]\n",
    "\n",
    "print(list_of_dictionary)\n",
    "\n"
   ]
  },
  {
   "cell_type": "markdown",
   "id": "4618869c",
   "metadata": {},
   "source": [
    "(19) Write a program that finds the average value of all the elements in a list of dictionaries"
   ]
  },
  {
   "cell_type": "code",
   "execution_count": 13,
   "id": "1e13dd1b",
   "metadata": {},
   "outputs": [
    {
     "name": "stdout",
     "output_type": "stream",
     "text": [
      "How many dictionaries: 2\n",
      "Enter key: a\n",
      "Enter value: 10\n",
      "Enter key: b\n",
      "Enter value: 10\n",
      "[{'a': 10}, {'b': 10}]\n",
      "Average value: 10.0\n"
     ]
    }
   ],
   "source": [
    "\n",
    "\n",
    "list_of_dictionary = []\n",
    "n = int(input(\"How many dictionaries: \"))\n",
    "\n",
    "for item in range(n):\n",
    "    key = input(\"Enter key: \")\n",
    "    value = int(input(\"Enter value: \"))\n",
    "    list_of_dictionary.append({key: value})\n",
    "\n",
    "print(list_of_dictionary)\n",
    "\n",
    "total = 0\n",
    "count = 0\n",
    "\n",
    "for data in list_of_dictionary:\n",
    "    for elements in data:\n",
    "        total = total + data[elements]\n",
    "        count = count + 1\n",
    "\n",
    "if count != 0:\n",
    "    average_value  = total / count\n",
    "else:\n",
    "    average_value  = 0\n",
    "\n",
    "print(\"Average value:\", average_value )\n",
    "\n",
    "\n"
   ]
  },
  {
   "cell_type": "markdown",
   "id": "be627efe",
   "metadata": {},
   "source": [
    "(20) .Implement a function that takes a list of strings and returns a set of unique characters in all strings."
   ]
  },
  {
   "cell_type": "code",
   "execution_count": 2,
   "id": "b038b18d",
   "metadata": {},
   "outputs": [
    {
     "name": "stdout",
     "output_type": "stream",
     "text": [
      "enter the list of string with separeted by comma value :  apple,banana\n",
      "{'a', 'p', 'e', 'n', 'l', 'b'}\n"
     ]
    }
   ],
   "source": [
    "def unique_characters(strings):\n",
    "    unique_chars = set()\n",
    "    for character in strings:\n",
    "        unique_chars.update(character)\n",
    "    return unique_chars\n",
    "\n",
    "\n",
    "list_of_string = input('enter the list of string with separeted by comma value :  ').split(',')\n",
    "result = unique_characters(list_of_string)\n",
    "print(result)\n",
    "\n"
   ]
  },
  {
   "cell_type": "code",
   "execution_count": null,
   "id": "bd846c79",
   "metadata": {},
   "outputs": [],
   "source": []
  }
 ],
 "metadata": {
  "kernelspec": {
   "display_name": "Python 3 (ipykernel)",
   "language": "python",
   "name": "python3"
  },
  "language_info": {
   "codemirror_mode": {
    "name": "ipython",
    "version": 3
   },
   "file_extension": ".py",
   "mimetype": "text/x-python",
   "name": "python",
   "nbconvert_exporter": "python",
   "pygments_lexer": "ipython3",
   "version": "3.10.9"
  }
 },
 "nbformat": 4,
 "nbformat_minor": 5
}
